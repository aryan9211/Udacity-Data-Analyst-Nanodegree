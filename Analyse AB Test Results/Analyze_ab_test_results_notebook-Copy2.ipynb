{
 "cells": [
  {
   "cell_type": "markdown",
   "metadata": {},
   "source": [
    "## Analyze A/B Test Results\n",
    "\n",
    "You may either submit your notebook through the workspace here, or you may work from your local machine and submit through the next page.  Either way assure that your code passes the project [RUBRIC](https://review.udacity.com/#!/projects/37e27304-ad47-4eb0-a1ab-8c12f60e43d0/rubric).  **Please save regularly\n",
    "\n",
    "This project will assure you have mastered the subjects covered in the statistics lessons.  The hope is to have this project be as comprehensive of these topics as possible.  Good luck!\n",
    "\n",
    "## Table of Contents\n",
    "- [Introduction](#intro)\n",
    "- [Part I - Probability](#probability)\n",
    "- [Part II - A/B Test](#ab_test)\n",
    "- [Part III - Regression](#regression)\n",
    "\n",
    "\n",
    "<a id='intro'></a>\n",
    "### Introduction\n",
    "\n",
    "A/B tests are very commonly performed by data analysts and data scientists.  It is important that you get some practice working with the difficulties of these \n",
    "\n",
    "For this project, you will be working to understand the results of an A/B test run by an e-commerce website.  Your goal is to work through this notebook to help the company understand if they should implement the new page, keep the old page, or perhaps run the experiment longer to make their decision.\n",
    "\n",
    "**As you work through this notebook, follow along in the classroom and answer the corresponding quiz questions associated with each question.** The labels for each classroom concept are provided for each question.  This will assure you are on the right track as you work through the project, and you can feel more confident in your final submission meeting the criteria.  As a final check, assure you meet all the criteria on the [RUBRIC](https://review.udacity.com/#!/projects/37e27304-ad47-4eb0-a1ab-8c12f60e43d0/rubric).\n",
    "\n",
    "<a id='probability'></a>\n",
    "#### Part I - Probability\n",
    "\n",
    "To get started, let's import our libraries."
   ]
  },
  {
   "cell_type": "code",
   "execution_count": 57,
   "metadata": {},
   "outputs": [],
   "source": [
    "import pandas as pd\n",
    "import numpy as np\n",
    "import random\n",
    "import matplotlib.pyplot as plt\n",
    "%matplotlib inline\n",
    "#We are setting the seed to assure you get the same answers on quizzes as we set up\n",
    "random.seed(42)"
   ]
  },
  {
   "cell_type": "markdown",
   "metadata": {},
   "source": [
    "`1.` Now, read in the `ab_data.csv` data. Store it in `df`.  **Use your dataframe to answer the questions in Quiz 1 of the classroom.**\n",
    "\n",
    "a. Read in the dataset and take a look at the top few rows here:"
   ]
  },
  {
   "cell_type": "code",
   "execution_count": 58,
   "metadata": {},
   "outputs": [
    {
     "data": {
      "text/html": [
       "<div>\n",
       "<style>\n",
       "    .dataframe thead tr:only-child th {\n",
       "        text-align: right;\n",
       "    }\n",
       "\n",
       "    .dataframe thead th {\n",
       "        text-align: left;\n",
       "    }\n",
       "\n",
       "    .dataframe tbody tr th {\n",
       "        vertical-align: top;\n",
       "    }\n",
       "</style>\n",
       "<table border=\"1\" class=\"dataframe\">\n",
       "  <thead>\n",
       "    <tr style=\"text-align: right;\">\n",
       "      <th></th>\n",
       "      <th>user_id</th>\n",
       "      <th>timestamp</th>\n",
       "      <th>group</th>\n",
       "      <th>landing_page</th>\n",
       "      <th>converted</th>\n",
       "    </tr>\n",
       "  </thead>\n",
       "  <tbody>\n",
       "    <tr>\n",
       "      <th>0</th>\n",
       "      <td>851104</td>\n",
       "      <td>2017-01-21 22:11:48.556739</td>\n",
       "      <td>control</td>\n",
       "      <td>old_page</td>\n",
       "      <td>0</td>\n",
       "    </tr>\n",
       "    <tr>\n",
       "      <th>1</th>\n",
       "      <td>804228</td>\n",
       "      <td>2017-01-12 08:01:45.159739</td>\n",
       "      <td>control</td>\n",
       "      <td>old_page</td>\n",
       "      <td>0</td>\n",
       "    </tr>\n",
       "    <tr>\n",
       "      <th>2</th>\n",
       "      <td>661590</td>\n",
       "      <td>2017-01-11 16:55:06.154213</td>\n",
       "      <td>treatment</td>\n",
       "      <td>new_page</td>\n",
       "      <td>0</td>\n",
       "    </tr>\n",
       "    <tr>\n",
       "      <th>3</th>\n",
       "      <td>853541</td>\n",
       "      <td>2017-01-08 18:28:03.143765</td>\n",
       "      <td>treatment</td>\n",
       "      <td>new_page</td>\n",
       "      <td>0</td>\n",
       "    </tr>\n",
       "    <tr>\n",
       "      <th>4</th>\n",
       "      <td>864975</td>\n",
       "      <td>2017-01-21 01:52:26.210827</td>\n",
       "      <td>control</td>\n",
       "      <td>old_page</td>\n",
       "      <td>1</td>\n",
       "    </tr>\n",
       "  </tbody>\n",
       "</table>\n",
       "</div>"
      ],
      "text/plain": [
       "   user_id                   timestamp      group landing_page  converted\n",
       "0   851104  2017-01-21 22:11:48.556739    control     old_page          0\n",
       "1   804228  2017-01-12 08:01:45.159739    control     old_page          0\n",
       "2   661590  2017-01-11 16:55:06.154213  treatment     new_page          0\n",
       "3   853541  2017-01-08 18:28:03.143765  treatment     new_page          0\n",
       "4   864975  2017-01-21 01:52:26.210827    control     old_page          1"
      ]
     },
     "execution_count": 58,
     "metadata": {},
     "output_type": "execute_result"
    }
   ],
   "source": [
    "df=pd.read_csv('ab_data.csv')\n",
    "df.head()"
   ]
  },
  {
   "cell_type": "markdown",
   "metadata": {},
   "source": [
    "b. Use the below cell to find the number of rows in the dataset."
   ]
  },
  {
   "cell_type": "code",
   "execution_count": 59,
   "metadata": {},
   "outputs": [
    {
     "data": {
      "text/plain": [
       "294478"
      ]
     },
     "execution_count": 59,
     "metadata": {},
     "output_type": "execute_result"
    }
   ],
   "source": [
    "df.shape[0]"
   ]
  },
  {
   "cell_type": "markdown",
   "metadata": {},
   "source": [
    "c. The number of unique users in the dataset."
   ]
  },
  {
   "cell_type": "code",
   "execution_count": 60,
   "metadata": {},
   "outputs": [
    {
     "data": {
      "text/plain": [
       "290584"
      ]
     },
     "execution_count": 60,
     "metadata": {},
     "output_type": "execute_result"
    }
   ],
   "source": [
    "df['user_id'].nunique()"
   ]
  },
  {
   "cell_type": "markdown",
   "metadata": {
    "collapsed": true
   },
   "source": [
    "d. The proportion of users converted."
   ]
  },
  {
   "cell_type": "code",
   "execution_count": 61,
   "metadata": {},
   "outputs": [
    {
     "data": {
      "text/plain": [
       "0.11965919355605512"
      ]
     },
     "execution_count": 61,
     "metadata": {},
     "output_type": "execute_result"
    }
   ],
   "source": [
    "df.query(\"converted == '1'\").shape[0]/df.shape[0]"
   ]
  },
  {
   "cell_type": "markdown",
   "metadata": {
    "collapsed": true
   },
   "source": [
    "e. The number of times the `new_page` and `treatment` don't line up."
   ]
  },
  {
   "cell_type": "code",
   "execution_count": 62,
   "metadata": {},
   "outputs": [
    {
     "data": {
      "text/plain": [
       "3893"
      ]
     },
     "execution_count": 62,
     "metadata": {},
     "output_type": "execute_result"
    }
   ],
   "source": [
    "df.query('landing_page == \"new_page\" and group == \"control\"').shape[0] + df.query('landing_page == \"old_page\" and group == \"treatment\"').shape[0]"
   ]
  },
  {
   "cell_type": "markdown",
   "metadata": {},
   "source": [
    "f. Do any of the rows have missing values?"
   ]
  },
  {
   "cell_type": "code",
   "execution_count": 63,
   "metadata": {},
   "outputs": [
    {
     "data": {
      "text/plain": [
       "user_id         False\n",
       "timestamp       False\n",
       "group           False\n",
       "landing_page    False\n",
       "converted       False\n",
       "dtype: bool"
      ]
     },
     "execution_count": 63,
     "metadata": {},
     "output_type": "execute_result"
    }
   ],
   "source": [
    "df.isnull().any()"
   ]
  },
  {
   "cell_type": "markdown",
   "metadata": {},
   "source": [
    "`2.` For the rows where **treatment** is not aligned with **new_page** or **control** is not aligned with **old_page**, we cannot be sure if this row truly received the new or old page.  Use **Quiz 2** in the classroom to provide how we should handle these rows.  \n",
    "\n",
    "a. Now use the answer to the quiz to create a new dataset that meets the specifications from the quiz.  Store your new dataframe in **df2**."
   ]
  },
  {
   "cell_type": "code",
   "execution_count": 64,
   "metadata": {},
   "outputs": [
    {
     "data": {
      "text/plain": [
       "3893"
      ]
     },
     "execution_count": 64,
     "metadata": {},
     "output_type": "execute_result"
    }
   ],
   "source": [
    "control_old_page = df.query('landing_page == \"old_page\" and group == \"control\"')\n",
    "treatment_new_page = df.query('landing_page == \"new_page\" and group == \"treatment\"')\n",
    "df2=pd.concat([control_old_page, treatment_new_page])\n",
    "\n",
    "#Doublecheck: df-df2=number of rows where treatment and landing_page are not aligned\n",
    "df.shape[0] - df2.shape[0]"
   ]
  },
  {
   "cell_type": "code",
   "execution_count": 65,
   "metadata": {},
   "outputs": [
    {
     "data": {
      "text/plain": [
       "0"
      ]
     },
     "execution_count": 65,
     "metadata": {},
     "output_type": "execute_result"
    }
   ],
   "source": [
    "# Double Check all of the correct rows were removed - this should be 0\n",
    "df2[((df2['group'] == 'treatment') == (df2['landing_page'] == 'new_page')) == False].shape[0]"
   ]
  },
  {
   "cell_type": "markdown",
   "metadata": {},
   "source": [
    "`3.` Use **df2** and the cells below to answer questions for **Quiz3** in the classroom."
   ]
  },
  {
   "cell_type": "markdown",
   "metadata": {},
   "source": [
    "a. How many unique **user_id**s are in **df2**?"
   ]
  },
  {
   "cell_type": "code",
   "execution_count": 66,
   "metadata": {},
   "outputs": [
    {
     "data": {
      "text/plain": [
       "290584"
      ]
     },
     "execution_count": 66,
     "metadata": {},
     "output_type": "execute_result"
    }
   ],
   "source": [
    "df2['user_id'].nunique()"
   ]
  },
  {
   "cell_type": "markdown",
   "metadata": {
    "collapsed": true
   },
   "source": [
    "b. There is one **user_id** repeated in **df2**.  What is it?"
   ]
  },
  {
   "cell_type": "code",
   "execution_count": 67,
   "metadata": {},
   "outputs": [
    {
     "data": {
      "text/plain": [
       "2893    773192\n",
       "Name: user_id, dtype: int64"
      ]
     },
     "execution_count": 67,
     "metadata": {},
     "output_type": "execute_result"
    }
   ],
   "source": [
    "df2[df2['user_id'].duplicated() == True]['user_id']"
   ]
  },
  {
   "cell_type": "markdown",
   "metadata": {},
   "source": [
    "c. What is the row information for the repeat **user_id**? "
   ]
  },
  {
   "cell_type": "code",
   "execution_count": 68,
   "metadata": {},
   "outputs": [
    {
     "data": {
      "text/html": [
       "<div>\n",
       "<style>\n",
       "    .dataframe thead tr:only-child th {\n",
       "        text-align: right;\n",
       "    }\n",
       "\n",
       "    .dataframe thead th {\n",
       "        text-align: left;\n",
       "    }\n",
       "\n",
       "    .dataframe tbody tr th {\n",
       "        vertical-align: top;\n",
       "    }\n",
       "</style>\n",
       "<table border=\"1\" class=\"dataframe\">\n",
       "  <thead>\n",
       "    <tr style=\"text-align: right;\">\n",
       "      <th></th>\n",
       "      <th>user_id</th>\n",
       "      <th>timestamp</th>\n",
       "      <th>group</th>\n",
       "      <th>landing_page</th>\n",
       "      <th>converted</th>\n",
       "    </tr>\n",
       "  </thead>\n",
       "  <tbody>\n",
       "    <tr>\n",
       "      <th>1899</th>\n",
       "      <td>773192</td>\n",
       "      <td>2017-01-09 05:37:58.781806</td>\n",
       "      <td>treatment</td>\n",
       "      <td>new_page</td>\n",
       "      <td>0</td>\n",
       "    </tr>\n",
       "    <tr>\n",
       "      <th>2893</th>\n",
       "      <td>773192</td>\n",
       "      <td>2017-01-14 02:55:59.590927</td>\n",
       "      <td>treatment</td>\n",
       "      <td>new_page</td>\n",
       "      <td>0</td>\n",
       "    </tr>\n",
       "  </tbody>\n",
       "</table>\n",
       "</div>"
      ],
      "text/plain": [
       "      user_id                   timestamp      group landing_page  converted\n",
       "1899   773192  2017-01-09 05:37:58.781806  treatment     new_page          0\n",
       "2893   773192  2017-01-14 02:55:59.590927  treatment     new_page          0"
      ]
     },
     "execution_count": 68,
     "metadata": {},
     "output_type": "execute_result"
    }
   ],
   "source": [
    "df2.query('user_id == \"773192\"')"
   ]
  },
  {
   "cell_type": "markdown",
   "metadata": {},
   "source": [
    "d. Remove **one** of the rows with a duplicate **user_id**, but keep your dataframe as **df2**."
   ]
  },
  {
   "cell_type": "code",
   "execution_count": 69,
   "metadata": {},
   "outputs": [
    {
     "data": {
      "text/plain": [
       "False"
      ]
     },
     "execution_count": 69,
     "metadata": {},
     "output_type": "execute_result"
    }
   ],
   "source": [
    "df2=df2.drop(2893, axis=0)\n",
    "df2.duplicated().any()"
   ]
  },
  {
   "cell_type": "markdown",
   "metadata": {},
   "source": [
    "`4.` Use **df2** in the below cells to answer the quiz questions related to **Quiz 4** in the classroom.\n",
    "\n",
    "a. What is the probability of an individual converting regardless of the page they receive?"
   ]
  },
  {
   "cell_type": "code",
   "execution_count": 70,
   "metadata": {},
   "outputs": [
    {
     "data": {
      "text/plain": [
       "0.11959708724499628"
      ]
     },
     "execution_count": 70,
     "metadata": {},
     "output_type": "execute_result"
    }
   ],
   "source": [
    "df2.query('converted == \"1\"').shape[0]/df2.shape[0]"
   ]
  },
  {
   "cell_type": "markdown",
   "metadata": {},
   "source": [
    "b. Given that an individual was in the `control` group, what is the probability they converted?"
   ]
  },
  {
   "cell_type": "code",
   "execution_count": 71,
   "metadata": {},
   "outputs": [
    {
     "data": {
      "text/plain": [
       "0.1203863045004612"
      ]
     },
     "execution_count": 71,
     "metadata": {},
     "output_type": "execute_result"
    }
   ],
   "source": [
    "df2.query('group == \"control\" and converted == \"1\"').shape[0]/df2.query('group == \"control\"').shape[0]"
   ]
  },
  {
   "cell_type": "markdown",
   "metadata": {},
   "source": [
    "c. Given that an individual was in the `treatment` group, what is the probability they converted?"
   ]
  },
  {
   "cell_type": "code",
   "execution_count": 72,
   "metadata": {},
   "outputs": [
    {
     "data": {
      "text/plain": [
       "0.11880806551510564"
      ]
     },
     "execution_count": 72,
     "metadata": {},
     "output_type": "execute_result"
    }
   ],
   "source": [
    "df2.query('group == \"treatment\" and converted == \"1\"').shape[0]/df2.query('group == \"treatment\"').shape[0]"
   ]
  },
  {
   "cell_type": "markdown",
   "metadata": {},
   "source": [
    "d. What is the probability that an individual received the new page?"
   ]
  },
  {
   "cell_type": "code",
   "execution_count": 73,
   "metadata": {},
   "outputs": [
    {
     "data": {
      "text/plain": [
       "0.5000619442226688"
      ]
     },
     "execution_count": 73,
     "metadata": {},
     "output_type": "execute_result"
    }
   ],
   "source": [
    "df2.query('landing_page == \"new_page\"').shape[0]/df2.shape[0]"
   ]
  },
  {
   "cell_type": "markdown",
   "metadata": {},
   "source": [
    "e. Use the results in the previous two portions of this question to suggest if you think there is evidence that one page leads to more conversions?  Write your response below."
   ]
  },
  {
   "cell_type": "markdown",
   "metadata": {},
   "source": [
    "**Your answer goes here.**"
   ]
  },
  {
   "cell_type": "markdown",
   "metadata": {},
   "source": [
    "<a id='ab_test'></a>\n",
    "### Part II - A/B Test\n",
    "\n",
    "Notice that because of the time stamp associated with each event, you could technically run a hypothesis test continuously as each observation was observed.  \n",
    "\n",
    "However, then the hard question is do you stop as soon as one page is considered significantly better than another or does it need to happen consistently for a certain amount of time?  How long do you run to render a decision that neither page is better than another?  \n",
    "\n",
    "These questions are the difficult parts associated with A/B tests in general.  \n",
    "\n",
    "\n",
    "`1.` For now, consider you need to make the decision just based on all the data provided.  If you want to assume that the old page is better unless the new page proves to be definitely better at a Type I error rate of 5%, what should your null and alternative hypotheses be?  You can state your hypothesis in terms of words or in terms of **$p_{old}$** and **$p_{new}$**, which are the converted rates for the old and new pages."
   ]
  },
  {
   "cell_type": "markdown",
   "metadata": {},
   "source": [
    "**Put your answer here.**"
   ]
  },
  {
   "cell_type": "markdown",
   "metadata": {},
   "source": [
    "`2.` Assume under the null hypothesis, $p_{new}$ and $p_{old}$ both have \"true\" success rates equal to the **converted** success rate regardless of page - that is $p_{new}$ and $p_{old}$ are equal. Furthermore, assume they are equal to the **converted** rate in **ab_data.csv** regardless of the page. <br><br>\n",
    "\n",
    "Use a sample size for each page equal to the ones in **ab_data.csv**.  <br><br>\n",
    "\n",
    "Perform the sampling distribution for the difference in **converted** between the two pages over 10,000 iterations of calculating an estimate from the null.  <br><br>\n",
    "\n",
    "Use the cells below to provide the necessary parts of this simulation.  If this doesn't make complete sense right now, don't worry - you are going to work through the problems below to complete this problem.  You can use **Quiz 5** in the classroom to make sure you are on the right track.<br><br>"
   ]
  },
  {
   "cell_type": "markdown",
   "metadata": {},
   "source": [
    "a. What is the **convert rate** for $p_{new}$ under the null? "
   ]
  },
  {
   "cell_type": "code",
   "execution_count": 74,
   "metadata": {},
   "outputs": [
    {
     "data": {
      "text/plain": [
       "0.11959708724499628"
      ]
     },
     "execution_count": 74,
     "metadata": {},
     "output_type": "execute_result"
    }
   ],
   "source": [
    "p_new=df2.query('converted == \"1\"').shape[0]/df2.shape[0]\n",
    "p_new"
   ]
  },
  {
   "cell_type": "markdown",
   "metadata": {},
   "source": [
    "b. What is the **convert rate** for $p_{old}$ under the null? <br><br>"
   ]
  },
  {
   "cell_type": "code",
   "execution_count": 75,
   "metadata": {},
   "outputs": [
    {
     "data": {
      "text/plain": [
       "0.11959708724499628"
      ]
     },
     "execution_count": 75,
     "metadata": {},
     "output_type": "execute_result"
    }
   ],
   "source": [
    "p_old=df2.query('converted == \"1\"').shape[0]/df2.shape[0]\n",
    "p_old"
   ]
  },
  {
   "cell_type": "markdown",
   "metadata": {},
   "source": [
    "c. What is $n_{new}$?"
   ]
  },
  {
   "cell_type": "code",
   "execution_count": 76,
   "metadata": {},
   "outputs": [
    {
     "data": {
      "text/plain": [
       "145310"
      ]
     },
     "execution_count": 76,
     "metadata": {},
     "output_type": "execute_result"
    }
   ],
   "source": [
    "n_new=df2.query('landing_page == \"new_page\"').shape[0]\n",
    "n_new"
   ]
  },
  {
   "cell_type": "markdown",
   "metadata": {},
   "source": [
    "d. What is $n_{old}$?"
   ]
  },
  {
   "cell_type": "code",
   "execution_count": 77,
   "metadata": {},
   "outputs": [
    {
     "data": {
      "text/plain": [
       "145274"
      ]
     },
     "execution_count": 77,
     "metadata": {},
     "output_type": "execute_result"
    }
   ],
   "source": [
    "n_old=df2.query('landing_page == \"old_page\"').shape[0]\n",
    "n_old"
   ]
  },
  {
   "cell_type": "markdown",
   "metadata": {},
   "source": [
    "e. Simulate $n_{new}$ transactions with a convert rate of $p_{new}$ under the null.  Store these $n_{new}$ 1's and 0's in **new_page_converted**."
   ]
  },
  {
   "cell_type": "code",
   "execution_count": 78,
   "metadata": {},
   "outputs": [],
   "source": [
    "new_page_converted=np.random.binomial(1, p_new, n_new)\n",
    "p_new=new_page_converted.mean()"
   ]
  },
  {
   "cell_type": "markdown",
   "metadata": {},
   "source": [
    "f. Simulate $n_{old}$ transactions with a convert rate of $p_{old}$ under the null.  Store these $n_{old}$ 1's and 0's in **old_page_converted**."
   ]
  },
  {
   "cell_type": "code",
   "execution_count": 79,
   "metadata": {},
   "outputs": [],
   "source": [
    "old_page_converted=np.random.binomial(1, p_old, n_old)\n",
    "p_old=old_page_converted.mean()"
   ]
  },
  {
   "cell_type": "markdown",
   "metadata": {},
   "source": [
    "g. Find $p_{new}$ - $p_{old}$ for your simulated values from part (e) and (f)."
   ]
  },
  {
   "cell_type": "code",
   "execution_count": 80,
   "metadata": {},
   "outputs": [],
   "source": [
    "obs_diff=new_page_converted.mean()-old_page_converted.mean()"
   ]
  },
  {
   "cell_type": "markdown",
   "metadata": {},
   "source": [
    "h. Simulate 10,000 $p_{new}$ - $p_{old}$ values using this same process similarly to the one you calculated in parts **a. through g.** above.  Store all 10,000 values in **p_diffs**."
   ]
  },
  {
   "cell_type": "code",
   "execution_count": 109,
   "metadata": {},
   "outputs": [
    {
     "data": {
      "text/plain": [
       "[0.046589105032450451,\n",
       " 0.046781573115896563,\n",
       " 0.045626213780095279,\n",
       " 0.048832877814128803,\n",
       " 0.046224277189890875,\n",
       " 0.047869444253508586,\n",
       " 0.047793510390457233,\n",
       " 0.048481863105009085,\n",
       " 0.049500322384925605,\n",
       " 0.04929397124779164,\n",
       " 0.047133179589066515,\n",
       " 0.045632374246607779,\n",
       " 0.046637719595564578,\n",
       " 0.049376684627356157,\n",
       " 0.048825731642656564,\n",
       " 0.047931327936425627,\n",
       " 0.049362943119536234,\n",
       " 0.048867326231819233,\n",
       " 0.047160268663796898,\n",
       " 0.048860377883487696,\n",
       " 0.046231097635329718,\n",
       " 0.046465520141409963,\n",
       " 0.046809528519553487,\n",
       " 0.048901486441658121,\n",
       " 0.048771014595674594,\n",
       " 0.046726736692881424,\n",
       " 0.046802604046428567,\n",
       " 0.046403073685765059,\n",
       " 0.048688384779333307,\n",
       " 0.044772234777901793,\n",
       " 0.046575443677109918,\n",
       " 0.047786877535927683,\n",
       " 0.046795877396444391,\n",
       " 0.046878536204108021,\n",
       " 0.047311875467998449,\n",
       " 0.048702327521037758,\n",
       " 0.046795850110493947,\n",
       " 0.045563763913706562,\n",
       " 0.045405496969025003,\n",
       " 0.046974835902649337,\n",
       " 0.046781731715483499,\n",
       " 0.048792030177859477,\n",
       " 0.044393566515951915,\n",
       " 0.046451691659622998,\n",
       " 0.046217400467179245,\n",
       " 0.044544731628830728,\n",
       " 0.045701283019591976,\n",
       " 0.045212358674421138,\n",
       " 0.045439650357376266,\n",
       " 0.04694675941758733,\n",
       " 0.047573283021123014,\n",
       " 0.04703655245911989,\n",
       " 0.046527298091269029,\n",
       " 0.047015879656687465,\n",
       " 0.048537115638768447,\n",
       " 0.045632670981318846,\n",
       " 0.04751155964316485,\n",
       " 0.049645344085010909,\n",
       " 0.048454037309616768,\n",
       " 0.048385476432500713,\n",
       " 0.045185515173244747,\n",
       " 0.046554806687487432,\n",
       " 0.047538960800953364,\n",
       " 0.047428745646658069,\n",
       " 0.049624347261916973,\n",
       " 0.046072641394366953,\n",
       " 0.048564527028788412,\n",
       " 0.04776615868845388,\n",
       " 0.048750408302746351,\n",
       " 0.046526994535070379,\n",
       " 0.045852594794454388,\n",
       " 0.04771793124476166,\n",
       " 0.04678199604812841,\n",
       " 0.046891950280522648,\n",
       " 0.048268341921196209,\n",
       " 0.047490796456021542,\n",
       " 0.045247120880541641,\n",
       " 0.04800007128833525,\n",
       " 0.047869318055987806,\n",
       " 0.047752319974435492,\n",
       " 0.047821194639981621,\n",
       " 0.047656230036638214,\n",
       " 0.046045284576247861,\n",
       " 0.046541024250741858,\n",
       " 0.04873662245525695,\n",
       " 0.045019853072793131,\n",
       " 0.048798533424124421,\n",
       " 0.048701855133020736,\n",
       " 0.046623541512537559,\n",
       " 0.0455292353435367,\n",
       " 0.048378630406483353,\n",
       " 0.047449426975950032,\n",
       " 0.04784865889653056,\n",
       " 0.049755262504595166,\n",
       " 0.045267803915205504,\n",
       " 0.050023719022993546,\n",
       " 0.048247837950582115,\n",
       " 0.047600858126845641,\n",
       " 0.044978609790242402,\n",
       " 0.048309660240110644,\n",
       " 0.048337121085915799,\n",
       " 0.044923406712268188,\n",
       " 0.045439829421426048,\n",
       " 0.047821262854857716,\n",
       " 0.047669826587846409,\n",
       " 0.046809323874925146,\n",
       " 0.048275317555478189,\n",
       " 0.049259838323903196,\n",
       " 0.046678778697949827,\n",
       " 0.045859435704356064,\n",
       " 0.047972543933025913,\n",
       " 0.047277384416010468,\n",
       " 0.049128846339489385,\n",
       " 0.046720003221409637,\n",
       " 0.049865429908477241,\n",
       " 0.047717692492695279,\n",
       " 0.048550529715183088,\n",
       " 0.046678463204147841,\n",
       " 0.046293310455023939,\n",
       " 0.046871314996272048,\n",
       " 0.046313657531422983,\n",
       " 0.049107992767635236,\n",
       " 0.04856476407548288,\n",
       " 0.047566614353783523,\n",
       " 0.047752452993443883,\n",
       " 0.046657937063699001,\n",
       " 0.045976808967726948,\n",
       " 0.046933553396544841,\n",
       " 0.047180999448874009,\n",
       " 0.048550606456918693,\n",
       " 0.048303126297151458,\n",
       " 0.04673370721104772,\n",
       " 0.045074844684651408,\n",
       " 0.04969327479399209,\n",
       " 0.046107482047594989,\n",
       " 0.04619023806145707,\n",
       " 0.048881048980548236,\n",
       " 0.05019571383251982,\n",
       " 0.047910406149695384,\n",
       " 0.047091446864779715,\n",
       " 0.046734026115593505,\n",
       " 0.04724281662228684,\n",
       " 0.04947292122713709,\n",
       " 0.047607787716086244,\n",
       " 0.046843895079392586,\n",
       " 0.045887367232806328,\n",
       " 0.045928211458331841,\n",
       " 0.048509503014863981,\n",
       " 0.045556749055870829,\n",
       " 0.045949271380186202,\n",
       " 0.047353377967078406,\n",
       " 0.047257074857793291,\n",
       " 0.047621580385063256,\n",
       " 0.048812099278638402,\n",
       " 0.048846233907898745,\n",
       " 0.047442720790428661,\n",
       " 0.046637380226555947,\n",
       " 0.049713736130308619,\n",
       " 0.048420013529530098,\n",
       " 0.04794516153432829,\n",
       " 0.046196678208961617,\n",
       " 0.047552768818277524,\n",
       " 0.043629934801159384,\n",
       " 0.049576112996737143,\n",
       " 0.046121008678555175,\n",
       " 0.047050483263221032,\n",
       " 0.046905586055284609,\n",
       " 0.047105537973839706,\n",
       " 0.046444671685671554,\n",
       " 0.047036557575235616,\n",
       " 0.044393557989092419,\n",
       " 0.048068983472063231,\n",
       " 0.045584481055808479,\n",
       " 0.04853713439785938,\n",
       " 0.048275404529445218,\n",
       " 0.048165521922670929,\n",
       " 0.048825866367036869,\n",
       " 0.044331771512373844,\n",
       " 0.04645100439474624,\n",
       " 0.046527013294161298,\n",
       " 0.048550729243695689,\n",
       " 0.047387623445512422,\n",
       " 0.047704169272478891,\n",
       " 0.047002173961677468,\n",
       " 0.047780019572306986,\n",
       " 0.048000069582963337,\n",
       " 0.046809211320379587,\n",
       " 0.048089664801355195,\n",
       " 0.047979275699125828,\n",
       " 0.047621658832170788,\n",
       " 0.047167390960062477,\n",
       " 0.046713124793326094,\n",
       " 0.04632075595248196,\n",
       " 0.04689869057348206,\n",
       " 0.046781868145235717,\n",
       " 0.04831639882769817,\n",
       " 0.046465387122401558,\n",
       " 0.050099163444308814,\n",
       " 0.046272707572839522,\n",
       " 0.048158653726818795,\n",
       " 0.047504316265494145,\n",
       " 0.046926664736229903,\n",
       " 0.047387683133528993,\n",
       " 0.048578094588674278,\n",
       " 0.049004780533572351,\n",
       " 0.047263752051992305,\n",
       " 0.047071188467719613,\n",
       " 0.049486775289502585,\n",
       " 0.04721562010912661,\n",
       " 0.048468298955867004,\n",
       " 0.045990217928025878,\n",
       " 0.046788692001418386,\n",
       " 0.046031597640328825,\n",
       " 0.047896976724933621,\n",
       " 0.050078610017909544,\n",
       " 0.045708260359245856,\n",
       " 0.046981461935691277,\n",
       " 0.04616950216026422,\n",
       " 0.049169919084849828,\n",
       " 0.047752221062865155,\n",
       " 0.047256541076387756,\n",
       " 0.049025719374021601,\n",
       " 0.050168154075144328,\n",
       " 0.046589306266334965,\n",
       " 0.048192604175913673,\n",
       " 0.048750244587043717,\n",
       " 0.047745427903376728,\n",
       " 0.046554458791619319,\n",
       " 0.050945621093211463,\n",
       " 0.044964904095232433,\n",
       " 0.049658688241177529,\n",
       " 0.047270323513133344,\n",
       " 0.046864422925213312,\n",
       " 0.049376752842232266,\n",
       " 0.047449469610247583,\n",
       " 0.048261405510467981,\n",
       " 0.046933411850676912,\n",
       " 0.044820492918288282,\n",
       " 0.046410243732443957,\n",
       " 0.046616657968338318,\n",
       " 0.046926719308130777,\n",
       " 0.047387577400471045,\n",
       " 0.048240927120432459,\n",
       " 0.046479075763692507,\n",
       " 0.048660460072370654,\n",
       " 0.046988076031129894,\n",
       " 0.045412216797521568,\n",
       " 0.049177199980702385,\n",
       " 0.047580456478545696,\n",
       " 0.045301959008928694,\n",
       " 0.045639494837501488,\n",
       " 0.046348254316468968,\n",
       " 0.049053313238835161,\n",
       " 0.04837159508418476,\n",
       " 0.047181021618708754,\n",
       " 0.04726381344538079,\n",
       " 0.043794921574337536,\n",
       " 0.046905739538755847,\n",
       " 0.046100508118684907,\n",
       " 0.046107355850074194,\n",
       " 0.048041396428737296,\n",
       " 0.047449640147437869,\n",
       " 0.04658253868742511,\n",
       " 0.04742866890492245,\n",
       " 0.046637257439778951,\n",
       " 0.046995261426155899,\n",
       " 0.04826170565592286,\n",
       " 0.046726699174699571,\n",
       " 0.049631251270579047,\n",
       " 0.04725687021316495,\n",
       " 0.04736685684762533,\n",
       " 0.049259746233820456,\n",
       " 0.048137968986783047,\n",
       " 0.047146554441927377,\n",
       " 0.045611805471861389,\n",
       " 0.045948988288450371,\n",
       " 0.046878137147082791,\n",
       " 0.046878043351628165,\n",
       " 0.046210764201905882,\n",
       " 0.04619020224864713,\n",
       " 0.047098785743276958,\n",
       " 0.046761152708505713,\n",
       " 0.048764122524615844,\n",
       " 0.047882904374964591,\n",
       " 0.047738469322813781,\n",
       " 0.047112297025890038,\n",
       " 0.047593966055786877,\n",
       " 0.047112411285807537,\n",
       " 0.046100671834387541,\n",
       " 0.046864484318601796,\n",
       " 0.049362719715816988,\n",
       " 0.047008994407116311,\n",
       " 0.046368950994108024,\n",
       " 0.047057244020643277,\n",
       " 0.048371741746168387,\n",
       " 0.047435995845816356,\n",
       " 0.047958648941734738,\n",
       " 0.048302703364919611,\n",
       " 0.04745643501229814,\n",
       " 0.047862656210135898,\n",
       " 0.047380565953379111,\n",
       " 0.046059198326629955,\n",
       " 0.048750159318448574,\n",
       " 0.046706133810697006,\n",
       " 0.049032502301278591,\n",
       " 0.045611607648720687,\n",
       " 0.046465075039343384,\n",
       " 0.049252825171439363,\n",
       " 0.047050594112394706,\n",
       " 0.048062108454723529,\n",
       " 0.048254784593541752,\n",
       " 0.046176111139587139,\n",
       " 0.046451333531523462,\n",
       " 0.047250044651610396,\n",
       " 0.046795558491898578,\n",
       " 0.047222362107457921,\n",
       " 0.048626142968316716,\n",
       " 0.046595915245657857,\n",
       " 0.047091571356928624,\n",
       " 0.045426089618978024,\n",
       " 0.047683598792360588,\n",
       " 0.045673673806431295,\n",
       " 0.046575658553969668,\n",
       " 0.046864109136783225,\n",
       " 0.048296002295513937,\n",
       " 0.047580018197966714,\n",
       " 0.048240886191506779,\n",
       " 0.046107441118669309,\n",
       " 0.045095725542456,\n",
       " 0.048529993342502839,\n",
       " 0.048523287156981496,\n",
       " 0.046837023472796668,\n",
       " 0.046011482494508524,\n",
       " 0.04867461939630674,\n",
       " 0.048440568661301267,\n",
       " 0.046327781042549115,\n",
       " 0.048261657905509583,\n",
       " 0.047910718232753557,\n",
       " 0.05018193480651803,\n",
       " 0.048764248722136652,\n",
       " 0.048103176083968274,\n",
       " 0.046616630682387875,\n",
       " 0.047112300436633864,\n",
       " 0.049824053606918078,\n",
       " 0.048881028516085404,\n",
       " 0.046995373980701458,\n",
       " 0.048179239555284206,\n",
       " 0.047380799589329753,\n",
       " 0.047786703587993612,\n",
       " 0.047256952071016295,\n",
       " 0.047490649794037929,\n",
       " 0.045880265401003553,\n",
       " 0.049913249768284734,\n",
       " 0.049390521636002646,\n",
       " 0.0484196929196124,\n",
       " 0.047663137456044072,\n",
       " 0.051132005451880694,\n",
       " 0.047545745433582268,\n",
       " 0.046114060330223638,\n",
       " 0.044476353226508267,\n",
       " 0.048254731727012792,\n",
       " 0.0479931775119046,\n",
       " 0.047731432295143303,\n",
       " 0.050071711125363211,\n",
       " 0.047593710250001489,\n",
       " 0.047834932737057759,\n",
       " 0.046017873186227909,\n",
       " 0.047587224057455565,\n",
       " 0.045969712252039871,\n",
       " 0.047359917026153317,\n",
       " 0.04716044431710284,\n",
       " 0.047972596799554901,\n",
       " 0.045791059007405516,\n",
       " 0.046038660248577834,\n",
       " 0.045900747201782902,\n",
       " 0.046341169538385213,\n",
       " 0.04759390977851409,\n",
       " 0.046981712625360966,\n",
       " 0.045219748714075456,\n",
       " 0.046244866429100098,\n",
       " 0.047600933163209347,\n",
       " 0.047917612009184235,\n",
       " 0.047718289372861211,\n",
       " 0.047105111630864033,\n",
       " 0.0492323450760319,\n",
       " 0.04939700782854857,\n",
       " 0.047173761187319016,\n",
       " 0.045790810023107711,\n",
       " 0.046657781874855878,\n",
       " 0.046334388316500122,\n",
       " 0.04680901690798267,\n",
       " 0.046485676216155902,\n",
       " 0.046899094746622974,\n",
       " 0.048013834965989904,\n",
       " 0.046052323309290252,\n",
       " 0.048241031148118493,\n",
       " 0.045770155979766206,\n",
       " 0.044806601337740906,\n",
       " 0.046643813552572883,\n",
       " 0.04659599028202159,\n",
       " 0.046774945377482724,\n",
       " 0.046595836798550366,\n",
       " 0.047050409932229212,\n",
       " 0.048172229813564185,\n",
       " 0.045061246428071314,\n",
       " 0.046348177574733321,\n",
       " 0.044785824507622404,\n",
       " 0.045432804331358892,\n",
       " 0.046024741382080014,\n",
       " 0.047669541790738679,\n",
       " 0.044813507051774865,\n",
       " 0.043368148655472408,\n",
       " 0.04651325814336614,\n",
       " 0.048124138799624155,\n",
       " 0.048103303986860968,\n",
       " 0.045673869924200111,\n",
       " 0.048715867794973181,\n",
       " 0.048433693643961523,\n",
       " 0.047298210701914131,\n",
       " 0.046678812805387868,\n",
       " 0.046747583443247961,\n",
       " 0.047360345074500862,\n",
       " 0.04705054636198143,\n",
       " 0.047208632537241321,\n",
       " 0.048069292144377621,\n",
       " 0.047800492846226839,\n",
       " 0.046169213952412677,\n",
       " 0.045756281452937878,\n",
       " 0.048839775001303265,\n",
       " 0.046933536342825793,\n",
       " 0.050594911645662322,\n",
       " 0.04775221424137753,\n",
       " 0.048172057571002028,\n",
       " 0.048819168708375021,\n",
       " 0.047208504634348628,\n",
       " 0.04912186388371978,\n",
       " 0.048171881917696044,\n",
       " 0.046988490436502217,\n",
       " 0.047704227255123577,\n",
       " 0.048330474588411027,\n",
       " 0.046658042796756977,\n",
       " 0.044221389231632061,\n",
       " 0.046341420228054903,\n",
       " 0.046933405029189301,\n",
       " 0.047965396056181761,\n",
       " 0.048929455488290238,\n",
       " 0.047105207131690585,\n",
       " 0.047091607169738564,\n",
       " 0.046809318758809434,\n",
       " 0.046644591202160496,\n",
       " 0.047669688452722306,\n",
       " 0.050154207922696079,\n",
       " 0.046960910214663892,\n",
       " 0.047298096441996659,\n",
       " 0.045928651444282736,\n",
       " 0.047380768892635525,\n",
       " 0.047607681983028269,\n",
       " 0.046024824945303244,\n",
       " 0.048660881299230629,\n",
       " 0.046003790604027442,\n",
       " 0.04692633901019648,\n",
       " 0.047945178588047338,\n",
       " 0.047986271797870628,\n",
       " 0.048296186475679445,\n",
       " 0.047263980571827249,\n",
       " 0.048392247422154394,\n",
       " 0.043670942742387531,\n",
       " 0.047304927119666912,\n",
       " 0.047063881991288525,\n",
       " 0.047594092253307685,\n",
       " 0.049114678488693775,\n",
       " 0.048674980935150103,\n",
       " 0.050312786950435839,\n",
       " 0.04887419101692754,\n",
       " 0.048887857488383771,\n",
       " 0.048736571294099876,\n",
       " 0.047126074346519942,\n",
       " 0.046541242538345393,\n",
       " 0.046940140206033015,\n",
       " 0.045790859478892901,\n",
       " 0.04730504479032821,\n",
       " 0.047194955833553695,\n",
       " 0.047580463300033321,\n",
       " 0.04857835892131919,\n",
       " 0.048144581376849765,\n",
       " 0.04570139216339375,\n",
       " 0.048564359902341953,\n",
       " 0.047979279109869613,\n",
       " 0.048055431260524514,\n",
       " 0.048241106184482227,\n",
       " 0.047862559003937433,\n",
       " 0.048302923357895058,\n",
       " 0.047476886116383274,\n",
       " 0.048654035273213242,\n",
       " 0.049748274932709891,\n",
       " 0.049156170755542281,\n",
       " 0.049197678370737935,\n",
       " 0.047580679882264942,\n",
       " 0.048351132042496345,\n",
       " 0.044524241301191869,\n",
       " 0.045426055511539956,\n",
       " 0.048055354518788868,\n",
       " 0.047057189448742376,\n",
       " 0.048068720844790233,\n",
       " 0.047676836329566458,\n",
       " 0.046967858562995443,\n",
       " 0.048708985956145853,\n",
       " 0.047586886393818847,\n",
       " 0.047291047476722872,\n",
       " 0.048089277681933287,\n",
       " 0.04681631826829806,\n",
       " 0.045756472454590968,\n",
       " 0.047401170540935456,\n",
       " 0.048522998949129925,\n",
       " 0.047387662669066188,\n",
       " 0.049046504730999627,\n",
       " 0.048192767891616334,\n",
       " 0.047490714598170225,\n",
       " 0.046210506690748582,\n",
       " 0.047525077747265512,\n",
       " 0.046678526302908224,\n",
       " 0.047869447664252385,\n",
       " 0.048660922228156267,\n",
       " 0.045901122383601486,\n",
       " 0.046128137796308408,\n",
       " 0.047366793748864933,\n",
       " 0.047305351757270672,\n",
       " 0.045405147367784948,\n",
       " 0.044434935996023467,\n",
       " 0.046878159316917523,\n",
       " 0.04605909429894392,\n",
       " 0.045804660674729422,\n",
       " 0.048220276487834751,\n",
       " 0.045089029589166038,\n",
       " 0.045439600901591104,\n",
       " 0.047662533754390543,\n",
       " 0.044937272712237034,\n",
       " 0.045887247856773158,\n",
       " 0.048619140048084306,\n",
       " 0.04840595993865196,\n",
       " 0.048922336602768443,\n",
       " 0.048523183129295433,\n",
       " 0.045838981189527173,\n",
       " 0.046210695987029787,\n",
       " 0.04766958271966433,\n",
       " 0.047160261842309287,\n",
       " 0.048048080444423921,\n",
       " 0.046747452129611441,\n",
       " 0.048144728038833393,\n",
       " 0.044317813422322272,\n",
       " 0.047497770384931623,\n",
       " 0.04907382062019304,\n",
       " 0.047924210756275717,\n",
       " 0.048461096507121978,\n",
       " 0.047545842639780719,\n",
       " 0.045412121296695029,\n",
       " 0.045955936636781908,\n",
       " 0.047711027236099587,\n",
       " 0.045976578742520091,\n",
       " 0.047077817911505365,\n",
       " 0.047304843556443682,\n",
       " 0.048880905729308408,\n",
       " 0.045604853712786053,\n",
       " 0.047532211981134442,\n",
       " 0.046671838876477814,\n",
       " 0.048991166928645108,\n",
       " 0.047139406565083225,\n",
       " 0.047958555146280085,\n",
       " 0.045033777055406662,\n",
       " 0.047883037393972983,\n",
       " 0.04817213090199382,\n",
       " 0.046196963006069375,\n",
       " 0.047669386601895541,\n",
       " 0.048915413835015437,\n",
       " 0.046410392099799483,\n",
       " 0.049376500447190663,\n",
       " 0.048461309678609815,\n",
       " 0.046520479351202085,\n",
       " 0.045721935357561597,\n",
       " 0.046396314633714728,\n",
       " 0.049307468887429498,\n",
       " 0.047435726397055733,\n",
       " 0.049094459315187439,\n",
       " 0.046190030006084931,\n",
       " 0.046293112631883238,\n",
       " 0.047070956537140857,\n",
       " 0.048330449007832482,\n",
       " 0.048550737770555213,\n",
       " 0.046830131401737904,\n",
       " 0.046678671259519938,\n",
       " 0.046713128204069893,\n",
       " 0.045880239820425023,\n",
       " 0.047408057495878481,\n",
       " 0.047786582506588529,\n",
       " 0.046933070776296382,\n",
       " 0.047091446864779715,\n",
       " 0.046300038810380043,\n",
       " 0.051351710977412729,\n",
       " 0.045632573775120394,\n",
       " 0.048929342933744666,\n",
       " 0.048557594028803996,\n",
       " 0.049445390461083927,\n",
       " 0.046685416668595076,\n",
       " 0.047016009264952058,\n",
       " 0.045226166691745256,\n",
       " 0.050064822465048273,\n",
       " 0.045508714319203586,\n",
       " 0.048571391813896719,\n",
       " 0.048433593027019273,\n",
       " 0.046933331698197481,\n",
       " 0.047655948650274255,\n",
       " 0.04747699696555692,\n",
       " 0.047600890528911782,\n",
       " 0.047188051824891622,\n",
       " 0.048089727900115578,\n",
       " 0.048888009266483096,\n",
       " 0.047380918965362964,\n",
       " 0.046953910705175281,\n",
       " 0.048344105247057276,\n",
       " 0.047291299871764475,\n",
       " 0.047366841499278195,\n",
       " 0.046871391738007653,\n",
       " 0.04854378601147985,\n",
       " 0.045666781735372558,\n",
       " 0.048599134046065806,\n",
       " 0.045976433785908377,\n",
       " 0.047146857998126054,\n",
       " 0.048303151877730002,\n",
       " 0.047084288755704154,\n",
       " 0.045639337943286451,\n",
       " 0.048633272086069934,\n",
       " 0.04621771937172503,\n",
       " 0.045515106716294884,\n",
       " 0.046176339659422083,\n",
       " 0.045467365303594909,\n",
       " 0.046362128843297296,\n",
       " 0.047903722134008758,\n",
       " 0.048529988226387141,\n",
       " 0.048977416893965647,\n",
       " 0.049817124017677489,\n",
       " 0.048530024039197081,\n",
       " 0.049376618117851948,\n",
       " 0.045522488229089678,\n",
       " 0.04673372597013864,\n",
       " 0.047580408728132448,\n",
       " 0.049535019786913853,\n",
       " 0.046836822238912154,\n",
       " 0.048426852734059875,\n",
       " 0.04803435257957922,\n",
       " 0.047518252185710971,\n",
       " 0.048364762701142608,\n",
       " 0.048543891744537826,\n",
       " 0.04895689757500446,\n",
       " 0.047022942264936474,\n",
       " 0.04561196066070454,\n",
       " 0.046162456605734245,\n",
       " 0.047690352728295249,\n",
       " 0.046644302994308953,\n",
       " 0.046960649292762807,\n",
       " 0.046699161587158811,\n",
       " 0.045598278840901202,\n",
       " 0.047229412778103622,\n",
       " 0.048075783453039242,\n",
       " 0.046775095450210163,\n",
       " 0.048110151718250269,\n",
       " 0.049011790275292372,\n",
       " 0.047731549965804601,\n",
       " 0.048578411787848177,\n",
       " 0.046182841200315142,\n",
       " 0.048537127576371769,\n",
       " 0.049252490918546443,\n",
       " 0.04801369000937819,\n",
       " 0.046437665354695318,\n",
       " 0.045157237454298241,\n",
       " 0.048695218867747372,\n",
       " 0.047600639839242093,\n",
       " 0.048846404445088989,\n",
       " 0.047284612445334037,\n",
       " 0.047263617327612001,\n",
       " 0.048186336270971283,\n",
       " 0.047910617615811307,\n",
       " 0.046417077820857994,\n",
       " 0.046417132392758895,\n",
       " 0.046224440905593508,\n",
       " 0.046437638068744874,\n",
       " 0.046272639357963399,\n",
       " 0.048860246569851204,\n",
       " 0.047043645764063169,\n",
       " 0.049810260937941067,\n",
       " 0.047972560986744933,\n",
       " 0.05048466238392893,\n",
       " 0.049576186327728963,\n",
       " 0.047669567371317223,\n",
       " 0.048929354871347988,\n",
       " 0.046884778528471865,\n",
       " 0.045191974079840214,\n",
       " 0.047531903308820067,\n",
       " 0.048096401683570808,\n",
       " 0.047614425686731493,\n",
       " 0.045460370910221995,\n",
       " 0.046031735775452928,\n",
       " 0.046726842425939413,\n",
       " 0.045962862815278699,\n",
       " 0.048461413706295864,\n",
       " 0.046995438784833768,\n",
       " 0.047766233724817586,\n",
       " 0.047297888386624534,\n",
       " 0.047043591192162268,\n",
       " 0.046492771226471066,\n",
       " 0.047972704237984762,\n",
       " 0.046458433657954323,\n",
       " 0.047683607319220112,\n",
       " 0.048061972024971311,\n",
       " 0.047593996752481119,\n",
       " 0.047036339287632081,\n",
       " 0.047621708287955963,\n",
       " 0.04747707029654874,\n",
       " 0.048192588827566538,\n",
       " 0.047835159551520803,\n",
       " 0.049115196921752174,\n",
       " 0.047222346759110814,\n",
       " 0.046706169623506946,\n",
       " 0.046850838311608398,\n",
       " 0.045776821236361911,\n",
       " 0.048708927973501154,\n",
       " 0.047656001516803242,\n",
       " 0.046850601264913944,\n",
       " 0.047690398773336584,\n",
       " 0.047360143840616348,\n",
       " 0.048922319549049423,\n",
       " 0.045811511816862507,\n",
       " 0.048316366425632015,\n",
       " 0.050374665517237169,\n",
       " 0.044999357629038561,\n",
       " 0.045949140066549696,\n",
       " 0.04684405708972332,\n",
       " 0.047442545137122705,\n",
       " 0.045680576109721482,\n",
       " 0.047910452194736761,\n",
       " 0.047098553812698216,\n",
       " 0.049149514025806113,\n",
       " 0.046733799301130446,\n",
       " 0.048475167151719109,\n",
       " 0.046561594730860134,\n",
       " 0.048998186902596566,\n",
       " 0.044510591883454687,\n",
       " 0.047697152709271246,\n",
       " 0.047346165286101943,\n",
       " 0.04753222903485349,\n",
       " 0.045322684677890107,\n",
       " 0.047373627837278984,\n",
       " 0.046313901399605062,\n",
       " 0.04705736510204836,\n",
       " 0.047091929485028161,\n",
       " 0.047704271594793041,\n",
       " 0.045487925551481775,\n",
       " 0.048454385205484909,\n",
       " 0.04532283645598946,\n",
       " 0.046293228597172623,\n",
       " 0.049796193704087735,\n",
       " 0.047367175752171115,\n",
       " 0.044400424479572612,\n",
       " 0.048055240258871396,\n",
       " 0.045969945887990554,\n",
       " 0.046609888684056563,\n",
       " 0.047779644390488415,\n",
       " 0.047229274642979518,\n",
       " 0.049094280251137656,\n",
       " 0.049631251270579047,\n",
       " 0.044255861524529136,\n",
       " 0.049747913393866527,\n",
       " 0.048846585214510685,\n",
       " 0.045886760120409001,\n",
       " 0.044689560621891028,\n",
       " 0.046754434585381047,\n",
       " 0.046024872695716521,\n",
       " 0.047793887277647731,\n",
       " 0.048482033642199329,\n",
       " 0.047195092263305885,\n",
       " 0.047332584083240856,\n",
       " 0.046307014444662023,\n",
       " 0.048894594370599384,\n",
       " 0.047373992786866145,\n",
       " 0.050243724693980404,\n",
       " 0.046492868432669518,\n",
       " 0.04773172732448247,\n",
       " 0.046444586417076411,\n",
       " 0.045969715662783697,\n",
       " 0.04676829376386224,\n",
       " 0.047215384767804056,\n",
       " 0.046562150682100401,\n",
       " 0.045990272499926751,\n",
       " 0.048330404668163018,\n",
       " 0.04724999860656906,\n",
       " 0.045446634518517756,\n",
       " 0.04923929512973535,\n",
       " 0.04701593763933215,\n",
       " 0.048172016642076348,\n",
       " 0.047883260797692229,\n",
       " 0.046733582718898811,\n",
       " 0.047483991358929833,\n",
       " 0.046533924124310955,\n",
       " 0.0474907640539554,\n",
       " 0.046733463342865642,\n",
       " 0.048000243530897407,\n",
       " 0.049273226819739294,\n",
       " 0.048247882290251579,\n",
       " 0.049197709067432177,\n",
       " 0.047587176307042303,\n",
       " 0.045549976360845248,\n",
       " 0.048750193425886643,\n",
       " 0.048722550105287921,\n",
       " 0.047215545072762891,\n",
       " 0.045460379437081505,\n",
       " 0.04530244162917714,\n",
       " 0.046004239116837833,\n",
       " 0.046761265263051299,\n",
       " 0.048302931884754555,\n",
       " 0.046258747777416051,\n",
       " 0.048640118112087322,\n",
       " 0.045254215890856805,\n",
       " 0.046809446661702142,\n",
       " 0.047676561764690109,\n",
       " 0.047559572209997319,\n",
       " 0.046898886691250877,\n",
       " 0.047917646116622262,\n",
       " 0.044799700739822645,\n",
       " 0.04608669327987315,\n",
       " 0.046458588846797461,\n",
       " 0.046940182840330566,\n",
       " 0.045488000587845481,\n",
       " 0.047387572284355348,\n",
       " 0.04473064871559862,\n",
       " 0.045942000716565068,\n",
       " 0.04766268041637417,\n",
       " 0.050987210566258448,\n",
       " 0.047538895996821068,\n",
       " 0.045260974942907164,\n",
       " 0.04780744460530216,\n",
       " 0.045577181400865002,\n",
       " 0.044717350604473377,\n",
       " 0.046114210402951078,\n",
       " 0.04802755259860321,\n",
       " 0.048468269964544675,\n",
       " 0.046127997955812391,\n",
       " 0.046568609588695881,\n",
       " 0.045467327785413056,\n",
       " 0.047903681205083093,\n",
       " 0.044503863528098569,\n",
       " 0.045721901250123542,\n",
       " 0.0450680395875597,\n",
       " 0.047435809960278963,\n",
       " 0.047208632537241321,\n",
       " 0.046775052815912613,\n",
       " 0.047821044567254181,\n",
       " 0.048179094598672492,\n",
       " 0.046341486737559084,\n",
       " 0.045866505134092697,\n",
       " 0.046424220581586448,\n",
       " 0.047504713617147462,\n",
       " 0.048089415817057418,\n",
       " 0.047235887033046223,\n",
       " 0.047793716740457459,\n",
       " 0.047711049405934305,\n",
       " 0.046692487803703608,\n",
       " 0.047566322735188155,\n",
       " 0.0449372539531461,\n",
       " 0.047194921726115627,\n",
       " 0.048041575492787078,\n",
       " 0.04950040253740505,\n",
       " 0.047387567168239622,\n",
       " 0.047139643611777721,\n",
       " 0.048213503792809156,\n",
       " 0.045776604654130276,\n",
       " 0.046658167288905886,\n",
       " 0.04809645796084358,\n",
       " 0.045618557702424137,\n",
       " 0.047070958242512756,\n",
       " 0.045185448663740552,\n",
       " 0.047690260638212495,\n",
       " 0.050119781674840394,\n",
       " 0.049679710644850023,\n",
       " 0.046692370133042324,\n",
       " 0.047607905386747515,\n",
       " 0.047463269100712205,\n",
       " 0.046919632824675123,\n",
       " 0.050147520496265655,\n",
       " 0.046602822665063756,\n",
       " 0.044875564682625976,\n",
       " 0.045440138093740423,\n",
       " 0.047298069156046216,\n",
       " 0.048578497056443321,\n",
       " 0.048055016855152149,\n",
       " 0.047428759289633277,\n",
       " 0.047662753747365991,\n",
       " 0.049170050398486348,\n",
       " 0.046299871683933583,\n",
       " 0.04554995419101053,\n",
       " 0.045164572922051699,\n",
       " 0.048378848694086887,\n",
       " 0.048771002658071286,\n",
       " 0.046616859202222846,\n",
       " 0.048839761358328043,\n",
       " 0.046589099916334739,\n",
       " 0.048096437496380748,\n",
       " 0.046389454964722118,\n",
       " 0.046885095727645737,\n",
       " 0.047656045856472706,\n",
       " 0.044786244029110439,\n",
       " 0.04682301763233182,\n",
       " 0.048488809747968709,\n",
       " 0.045501685818392631,\n",
       " 0.048826273950921595,\n",
       " 0.048054790040689091,\n",
       " 0.048365078194944594,\n",
       " 0.044751633601089247,\n",
       " 0.047952016087205188,\n",
       " 0.04793792668351711,\n",
       " 0.046726723049906202,\n",
       " 0.047690310093997657,\n",
       " 0.046176440276364347,\n",
       " 0.045412203154546346,\n",
       " 0.046623741041050173,\n",
       " 0.046802563117502902,\n",
       " 0.047366788632749207,\n",
       " 0.048041568671299467,\n",
       " 0.048881355947490712,\n",
       " 0.045253676993335573,\n",
       " 0.048151393295429085,\n",
       " 0.048158322884669702,\n",
       " 0.048357795593720138,\n",
       " 0.047167194842293689,\n",
       " 0.046768136869647217,\n",
       " 0.046368698599066449,\n",
       " 0.045790919166909486,\n",
       " 0.047917702393895076,\n",
       " 0.047270587845778256,\n",
       " 0.045894017141054927,\n",
       " 0.047965725192958983,\n",
       " 0.046327438262796672,\n",
       " 0.046781832332425777,\n",
       " 0.049218288074409977,\n",
       " 0.047614848618963354,\n",
       " 0.045591299795875423,\n",
       " 0.047876300511757369,\n",
       " 0.047119168632485955,\n",
       " 0.046719730361905201,\n",
       " 0.049122181082893679,\n",
       " 0.049183844772835245,\n",
       " 0.048337363248725965,\n",
       " 0.047779762061149714,\n",
       " 0.048433843716688962,\n",
       " 0.048819282968292493,\n",
       " 0.047249741095411746,\n",
       " 0.046774940261367012,\n",
       " 0.0475937170714891,\n",
       " 0.047587237700430787,\n",
       " 0.047710936851388747,\n",
       " 0.046541322690824796,\n",
       " 0.049507188875405839,\n",
       " 0.04895698113822769,\n",
       " 0.047938329151286124,\n",
       " 0.049486778700246384,\n",
       " 0.048468143767023866,\n",
       " 0.048344577635074326,\n",
       " 0.045784073140892126,\n",
       " 0.047965801934694588,\n",
       " 0.048082583434015252,\n",
       " 0.045432831617309336,\n",
       " 0.047456436717670053,\n",
       " 0.050195394927974035,\n",
       " 0.045508695560112666,\n",
       " 0.046024603246955911,\n",
       " 0.048729457524693792,\n",
       " 0.046899028237118764,\n",
       " 0.045935480416581076,\n",
       " 0.046217287912633659,\n",
       " 0.046382757306060271,\n",
       " 0.049390270946332956,\n",
       " 0.048323620035534115,\n",
       " 0.049053173398339117,\n",
       " 0.046671818412014968,\n",
       " 0.045198728015774875,\n",
       " 0.046011120955665188,\n",
       " 0.049156375400170593,\n",
       " 0.048358192945373454,\n",
       " 0.049004627050101113,\n",
       " 0.048041365732043054,\n",
       " 0.049514215670844894,\n",
       " 0.046093764414981683,\n",
       " 0.048206703811833146,\n",
       " 0.047869166277888453,\n",
       " 0.046375665706488919,\n",
       " 0.045653169835817228,\n",
       " 0.048447353293930143,\n",
       " 0.045942162726895816,\n",
       " 0.046444985474101627,\n",
       " 0.047290963913499642,\n",
       " 0.046658066671963608,\n",
       " 0.046836747202548434,\n",
       " ...]"
      ]
     },
     "execution_count": 109,
     "metadata": {},
     "output_type": "execute_result"
    }
   ],
   "source": [
    "random.seed(42)\n",
    "p_diffs=[]\n",
    "size=df2.shape[0]\n",
    "for _ in range(10000):\n",
    "    new_page_converted=np.random.binomial(1, p_new, n_new)\n",
    "    old_page_converted=np.random.binomial(1, p_old, n_old)\n",
    "    diff=new_page_converted.mean()-old_page_converted.mean()\n",
    "    p_diffs.append(diff)\n",
    "p_diffs"
   ]
  },
  {
   "cell_type": "markdown",
   "metadata": {},
   "source": [
    "i. Plot a histogram of the **p_diffs**.  Does this plot look like what you expected?  Use the matching problem in the classroom to assure you fully understand what was computed here."
   ]
  },
  {
   "cell_type": "code",
   "execution_count": 103,
   "metadata": {},
   "outputs": [
    {
     "data": {
      "text/plain": [
       "<matplotlib.lines.Line2D at 0x7fdf3ff6c828>"
      ]
     },
     "execution_count": 103,
     "metadata": {},
     "output_type": "execute_result"
    },
    {
     "data": {
      "image/png": "[encoded data removed]",
      "text/plain": [
       "<matplotlib.figure.Figure at 0x7fdf3ff6cfd0>"
      ]
     },
     "metadata": {
      "needs_background": "light"
     },
     "output_type": "display_data"
    }
   ],
   "source": [
    "p_diffs=np.array(p_diffs)\n",
    "plt.hist(p_diffs)\n",
    "plt.axvline(x=obs_diff, color='red')"
   ]
  },
  {
   "cell_type": "markdown",
   "metadata": {},
   "source": [
    "j. What proportion of the **p_diffs** are greater than the actual difference observed in **ab_data.csv**?"
   ]
  },
  {
   "cell_type": "code",
   "execution_count": 107,
   "metadata": {},
   "outputs": [
    {
     "data": {
      "text/plain": [
       "1.0"
      ]
     },
     "execution_count": 107,
     "metadata": {},
     "output_type": "execute_result"
    }
   ],
   "source": [
    "(p_diffs>obs_diff).mean()"
   ]
  },
  {
   "cell_type": "markdown",
   "metadata": {},
   "source": [
    "k. In words, explain what you just computed in part **j.**.  What is this value called in scientific studies?  What does this value mean in terms of whether or not there is a difference between the new and old pages?"
   ]
  },
  {
   "cell_type": "markdown",
   "metadata": {},
   "source": [
    "**Put your answer here.**"
   ]
  },
  {
   "cell_type": "markdown",
   "metadata": {},
   "source": [
    "l. We could also use a built-in to achieve similar results.  Though using the built-in might be easier to code, the above portions are a walkthrough of the ideas that are critical to correctly thinking about statistical significance. Fill in the below to calculate the number of conversions for each page, as well as the number of individuals who received each page. Let `n_old` and `n_new` refer the the number of rows associated with the old page and new pages, respectively."
   ]
  },
  {
   "cell_type": "code",
   "execution_count": 82,
   "metadata": {},
   "outputs": [],
   "source": [
    "import statsmodels.api as sm\n",
    "\n",
    "convert_old = df2.query('landing_page == \"old_page\" and converted == \"1\"').shape[0]\n",
    "convert_new = df2.query('landing_page == \"new_page\" and converted == \"1\"').shape[0]\n",
    "n_old = n_old\n",
    "n_new = n_new"
   ]
  },
  {
   "cell_type": "markdown",
   "metadata": {},
   "source": [
    "m. Now use `stats.proportions_ztest` to compute your test statistic and p-value.  [Here](http://knowledgetack.com/python/statsmodels/proportions_ztest/) is a helpful link on using the built in."
   ]
  },
  {
   "cell_type": "code",
   "execution_count": 83,
   "metadata": {},
   "outputs": [
    {
     "data": {
      "text/plain": [
       "(1.3109241984234394, 0.18988337448195103)"
      ]
     },
     "execution_count": 83,
     "metadata": {},
     "output_type": "execute_result"
    }
   ],
   "source": [
    "z_score, p_value = sm.stats.proportions_ztest([convert_old, convert_new], [n_old, n_new])\n",
    "z_score, p_value"
   ]
  },
  {
   "cell_type": "code",
   "execution_count": 84,
   "metadata": {},
   "outputs": [
    {
     "data": {
      "text/plain": [
       "(1.3109241984234394, 0.24801872461073715)"
      ]
     },
     "execution_count": 84,
     "metadata": {},
     "output_type": "execute_result"
    }
   ],
   "source": [
    "from scipy.stats import norm\n",
    "norm.cdf(z_score)\n",
    "critical_value=norm.pdf(1-(0.05/2))\n",
    "z_score, critical_value"
   ]
  },
  {
   "cell_type": "markdown",
   "metadata": {},
   "source": [
    "n. What do the z-score and p-value you computed in the previous question mean for the conversion rates of the old and new pages?  Do they agree with the findings in parts **j.** and **k.**?"
   ]
  },
  {
   "cell_type": "markdown",
   "metadata": {},
   "source": [
    "**Put your answer here.**"
   ]
  },
  {
   "cell_type": "markdown",
   "metadata": {},
   "source": [
    "<a id='regression'></a>\n",
    "### Part III - A regression approach\n",
    "\n",
    "`1.` In this final part, you will see that the result you acheived in the previous A/B test can also be acheived by performing regression.<br><br>\n",
    "\n",
    "a. Since each row is either a conversion or no conversion, what type of regression should you be performing in this case?"
   ]
  },
  {
   "cell_type": "markdown",
   "metadata": {},
   "source": [
    "**Put your answer here.**"
   ]
  },
  {
   "cell_type": "markdown",
   "metadata": {},
   "source": [
    "b. The goal is to use **statsmodels** to fit the regression model you specified in part **a.** to see if there is a significant difference in conversion based on which page a customer receives.  However, you first need to create a colun for the intercept, and create a dummy variable column for which page each user received.  Add an **intercept** column, as well as an **ab_page** column, which is 1 when an individual receives the **treatment** and 0 if **control**."
   ]
  },
  {
   "cell_type": "code",
   "execution_count": 85,
   "metadata": {},
   "outputs": [
    {
     "data": {
      "text/html": [
       "<div>\n",
       "<style>\n",
       "    .dataframe thead tr:only-child th {\n",
       "        text-align: right;\n",
       "    }\n",
       "\n",
       "    .dataframe thead th {\n",
       "        text-align: left;\n",
       "    }\n",
       "\n",
       "    .dataframe tbody tr th {\n",
       "        vertical-align: top;\n",
       "    }\n",
       "</style>\n",
       "<table border=\"1\" class=\"dataframe\">\n",
       "  <thead>\n",
       "    <tr style=\"text-align: right;\">\n",
       "      <th></th>\n",
       "      <th>user_id</th>\n",
       "      <th>timestamp</th>\n",
       "      <th>group</th>\n",
       "      <th>landing_page</th>\n",
       "      <th>converted</th>\n",
       "      <th>intercept</th>\n",
       "      <th>ab_test</th>\n",
       "    </tr>\n",
       "  </thead>\n",
       "  <tbody>\n",
       "    <tr>\n",
       "      <th>0</th>\n",
       "      <td>851104</td>\n",
       "      <td>2017-01-21 22:11:48.556739</td>\n",
       "      <td>control</td>\n",
       "      <td>old_page</td>\n",
       "      <td>0</td>\n",
       "      <td>1</td>\n",
       "      <td>0</td>\n",
       "    </tr>\n",
       "    <tr>\n",
       "      <th>1</th>\n",
       "      <td>804228</td>\n",
       "      <td>2017-01-12 08:01:45.159739</td>\n",
       "      <td>control</td>\n",
       "      <td>old_page</td>\n",
       "      <td>0</td>\n",
       "      <td>1</td>\n",
       "      <td>0</td>\n",
       "    </tr>\n",
       "    <tr>\n",
       "      <th>4</th>\n",
       "      <td>864975</td>\n",
       "      <td>2017-01-21 01:52:26.210827</td>\n",
       "      <td>control</td>\n",
       "      <td>old_page</td>\n",
       "      <td>1</td>\n",
       "      <td>1</td>\n",
       "      <td>0</td>\n",
       "    </tr>\n",
       "    <tr>\n",
       "      <th>5</th>\n",
       "      <td>936923</td>\n",
       "      <td>2017-01-10 15:20:49.083499</td>\n",
       "      <td>control</td>\n",
       "      <td>old_page</td>\n",
       "      <td>0</td>\n",
       "      <td>1</td>\n",
       "      <td>0</td>\n",
       "    </tr>\n",
       "    <tr>\n",
       "      <th>7</th>\n",
       "      <td>719014</td>\n",
       "      <td>2017-01-17 01:48:29.539573</td>\n",
       "      <td>control</td>\n",
       "      <td>old_page</td>\n",
       "      <td>0</td>\n",
       "      <td>1</td>\n",
       "      <td>0</td>\n",
       "    </tr>\n",
       "  </tbody>\n",
       "</table>\n",
       "</div>"
      ],
      "text/plain": [
       "   user_id                   timestamp    group landing_page  converted  \\\n",
       "0   851104  2017-01-21 22:11:48.556739  control     old_page          0   \n",
       "1   804228  2017-01-12 08:01:45.159739  control     old_page          0   \n",
       "4   864975  2017-01-21 01:52:26.210827  control     old_page          1   \n",
       "5   936923  2017-01-10 15:20:49.083499  control     old_page          0   \n",
       "7   719014  2017-01-17 01:48:29.539573  control     old_page          0   \n",
       "\n",
       "   intercept  ab_test  \n",
       "0          1        0  \n",
       "1          1        0  \n",
       "4          1        0  \n",
       "5          1        0  \n",
       "7          1        0  "
      ]
     },
     "execution_count": 85,
     "metadata": {},
     "output_type": "execute_result"
    }
   ],
   "source": [
    "df2['intercept']=1\n",
    "df2[['ab_test2', 'ab_test']]=pd.get_dummies(df2['group'])\n",
    "df2.head()\n",
    "#drop ab_test and keep ab_test2\n",
    "df2=df2.drop('ab_test2', axis=1)\n",
    "df2.head()"
   ]
  },
  {
   "cell_type": "markdown",
   "metadata": {},
   "source": [
    "c. Use **statsmodels** to import your regression model.  Instantiate the model, and fit the model using the two columns you created in part **b.** to predict whether or not an individual converts."
   ]
  },
  {
   "cell_type": "code",
   "execution_count": 86,
   "metadata": {},
   "outputs": [
    {
     "name": "stdout",
     "output_type": "stream",
     "text": [
      "Optimization terminated successfully.\n",
      "         Current function value: 0.366118\n",
      "         Iterations 6\n"
     ]
    }
   ],
   "source": [
    "logit_model=sm.Logit(df2['converted'], df2[['intercept', 'ab_test']])\n",
    "results=logit_model.fit()"
   ]
  },
  {
   "cell_type": "markdown",
   "metadata": {},
   "source": [
    "d. Provide the summary of your model below, and use it as necessary to answer the following questions."
   ]
  },
  {
   "cell_type": "code",
   "execution_count": 87,
   "metadata": {},
   "outputs": [
    {
     "data": {
      "text/html": [
       "<table class=\"simpletable\">\n",
       "<caption>Logit Regression Results</caption>\n",
       "<tr>\n",
       "  <th>Dep. Variable:</th>     <td>converted</td>    <th>  No. Observations:  </th>   <td>290584</td>   \n",
       "</tr>\n",
       "<tr>\n",
       "  <th>Model:</th>               <td>Logit</td>      <th>  Df Residuals:      </th>   <td>290582</td>   \n",
       "</tr>\n",
       "<tr>\n",
       "  <th>Method:</th>               <td>MLE</td>       <th>  Df Model:          </th>   <td>     1</td>   \n",
       "</tr>\n",
       "<tr>\n",
       "  <th>Date:</th>          <td>Sun, 16 Dec 2018</td> <th>  Pseudo R-squ.:     </th>  <td>8.077e-06</td> \n",
       "</tr>\n",
       "<tr>\n",
       "  <th>Time:</th>              <td>21:30:44</td>     <th>  Log-Likelihood:    </th> <td>-1.0639e+05</td>\n",
       "</tr>\n",
       "<tr>\n",
       "  <th>converged:</th>           <td>True</td>       <th>  LL-Null:           </th> <td>-1.0639e+05</td>\n",
       "</tr>\n",
       "<tr>\n",
       "  <th> </th>                      <td> </td>        <th>  LLR p-value:       </th>   <td>0.1899</td>   \n",
       "</tr>\n",
       "</table>\n",
       "<table class=\"simpletable\">\n",
       "<tr>\n",
       "      <td></td>         <th>coef</th>     <th>std err</th>      <th>z</th>      <th>P>|z|</th>  <th>[0.025</th>    <th>0.975]</th>  \n",
       "</tr>\n",
       "<tr>\n",
       "  <th>intercept</th> <td>   -1.9888</td> <td>    0.008</td> <td> -246.669</td> <td> 0.000</td> <td>   -2.005</td> <td>   -1.973</td>\n",
       "</tr>\n",
       "<tr>\n",
       "  <th>ab_test</th>   <td>   -0.0150</td> <td>    0.011</td> <td>   -1.311</td> <td> 0.190</td> <td>   -0.037</td> <td>    0.007</td>\n",
       "</tr>\n",
       "</table>"
      ],
      "text/plain": [
       "<class 'statsmodels.iolib.summary.Summary'>\n",
       "\"\"\"\n",
       "                           Logit Regression Results                           \n",
       "==============================================================================\n",
       "Dep. Variable:              converted   No. Observations:               290584\n",
       "Model:                          Logit   Df Residuals:                   290582\n",
       "Method:                           MLE   Df Model:                            1\n",
       "Date:                Sun, 16 Dec 2018   Pseudo R-squ.:               8.077e-06\n",
       "Time:                        21:30:44   Log-Likelihood:            -1.0639e+05\n",
       "converged:                       True   LL-Null:                   -1.0639e+05\n",
       "                                        LLR p-value:                    0.1899\n",
       "==============================================================================\n",
       "                 coef    std err          z      P>|z|      [0.025      0.975]\n",
       "------------------------------------------------------------------------------\n",
       "intercept     -1.9888      0.008   -246.669      0.000      -2.005      -1.973\n",
       "ab_test       -0.0150      0.011     -1.311      0.190      -0.037       0.007\n",
       "==============================================================================\n",
       "\"\"\""
      ]
     },
     "execution_count": 87,
     "metadata": {},
     "output_type": "execute_result"
    }
   ],
   "source": [
    "results.summary()"
   ]
  },
  {
   "cell_type": "markdown",
   "metadata": {},
   "source": [
    "e. What is the p-value associated with **ab_page**? Why does it differ from the value you found in the **Part II**?<br><br>  **Hint**: What are the null and alternative hypotheses associated with your regression model, and how do they compare to the null and alternative hypotheses in the **Part II**?"
   ]
  },
  {
   "cell_type": "markdown",
   "metadata": {},
   "source": [
    "**Put your answer here.**"
   ]
  },
  {
   "cell_type": "markdown",
   "metadata": {},
   "source": [
    "f. Now, you are considering other things that might influence whether or not an individual converts.  Discuss why it is a good idea to consider other factors to add into your regression model.  Are there any disadvantages to adding additional terms into your regression model?"
   ]
  },
  {
   "cell_type": "markdown",
   "metadata": {},
   "source": [
    "**Put your answer here.**"
   ]
  },
  {
   "cell_type": "markdown",
   "metadata": {},
   "source": [
    "g. Now along with testing if the conversion rate changes for different pages, also add an effect based on which country a user lives. You will need to read in the **countries.csv** dataset and merge together your datasets on the approporiate rows.  [Here](https://pandas.pydata.org/pandas-docs/stable/generated/pandas.DataFrame.join.html) are the docs for joining tables. \n",
    "\n",
    "Does it appear that country had an impact on conversion?  Don't forget to create dummy variables for these country columns - **Hint: You will need two columns for the three dummy varaibles.** Provide the statistical output as well as a written response to answer this question."
   ]
  },
  {
   "cell_type": "code",
   "execution_count": 88,
   "metadata": {},
   "outputs": [
    {
     "data": {
      "text/html": [
       "<div>\n",
       "<style>\n",
       "    .dataframe thead tr:only-child th {\n",
       "        text-align: right;\n",
       "    }\n",
       "\n",
       "    .dataframe thead th {\n",
       "        text-align: left;\n",
       "    }\n",
       "\n",
       "    .dataframe tbody tr th {\n",
       "        vertical-align: top;\n",
       "    }\n",
       "</style>\n",
       "<table border=\"1\" class=\"dataframe\">\n",
       "  <thead>\n",
       "    <tr style=\"text-align: right;\">\n",
       "      <th></th>\n",
       "      <th>user_id</th>\n",
       "      <th>timestamp</th>\n",
       "      <th>group</th>\n",
       "      <th>landing_page</th>\n",
       "      <th>converted</th>\n",
       "      <th>intercept</th>\n",
       "      <th>ab_test</th>\n",
       "      <th>country</th>\n",
       "    </tr>\n",
       "  </thead>\n",
       "  <tbody>\n",
       "    <tr>\n",
       "      <th>0</th>\n",
       "      <td>851104</td>\n",
       "      <td>2017-01-21 22:11:48.556739</td>\n",
       "      <td>control</td>\n",
       "      <td>old_page</td>\n",
       "      <td>0</td>\n",
       "      <td>1</td>\n",
       "      <td>0</td>\n",
       "      <td>US</td>\n",
       "    </tr>\n",
       "    <tr>\n",
       "      <th>1</th>\n",
       "      <td>804228</td>\n",
       "      <td>2017-01-12 08:01:45.159739</td>\n",
       "      <td>control</td>\n",
       "      <td>old_page</td>\n",
       "      <td>0</td>\n",
       "      <td>1</td>\n",
       "      <td>0</td>\n",
       "      <td>US</td>\n",
       "    </tr>\n",
       "    <tr>\n",
       "      <th>2</th>\n",
       "      <td>864975</td>\n",
       "      <td>2017-01-21 01:52:26.210827</td>\n",
       "      <td>control</td>\n",
       "      <td>old_page</td>\n",
       "      <td>1</td>\n",
       "      <td>1</td>\n",
       "      <td>0</td>\n",
       "      <td>US</td>\n",
       "    </tr>\n",
       "    <tr>\n",
       "      <th>3</th>\n",
       "      <td>936923</td>\n",
       "      <td>2017-01-10 15:20:49.083499</td>\n",
       "      <td>control</td>\n",
       "      <td>old_page</td>\n",
       "      <td>0</td>\n",
       "      <td>1</td>\n",
       "      <td>0</td>\n",
       "      <td>US</td>\n",
       "    </tr>\n",
       "    <tr>\n",
       "      <th>4</th>\n",
       "      <td>719014</td>\n",
       "      <td>2017-01-17 01:48:29.539573</td>\n",
       "      <td>control</td>\n",
       "      <td>old_page</td>\n",
       "      <td>0</td>\n",
       "      <td>1</td>\n",
       "      <td>0</td>\n",
       "      <td>US</td>\n",
       "    </tr>\n",
       "  </tbody>\n",
       "</table>\n",
       "</div>"
      ],
      "text/plain": [
       "   user_id                   timestamp    group landing_page  converted  \\\n",
       "0   851104  2017-01-21 22:11:48.556739  control     old_page          0   \n",
       "1   804228  2017-01-12 08:01:45.159739  control     old_page          0   \n",
       "2   864975  2017-01-21 01:52:26.210827  control     old_page          1   \n",
       "3   936923  2017-01-10 15:20:49.083499  control     old_page          0   \n",
       "4   719014  2017-01-17 01:48:29.539573  control     old_page          0   \n",
       "\n",
       "   intercept  ab_test country  \n",
       "0          1        0      US  \n",
       "1          1        0      US  \n",
       "2          1        0      US  \n",
       "3          1        0      US  \n",
       "4          1        0      US  "
      ]
     },
     "execution_count": 88,
     "metadata": {},
     "output_type": "execute_result"
    }
   ],
   "source": [
    "countries=pd.read_csv('countries.csv')\n",
    "df2=pd.merge(df2, countries, on='user_id')"
   ]
  },
  {
   "cell_type": "code",
   "execution_count": 91,
   "metadata": {},
   "outputs": [
    {
     "data": {
      "text/html": [
       "<div>\n",
       "<style>\n",
       "    .dataframe thead tr:only-child th {\n",
       "        text-align: right;\n",
       "    }\n",
       "\n",
       "    .dataframe thead th {\n",
       "        text-align: left;\n",
       "    }\n",
       "\n",
       "    .dataframe tbody tr th {\n",
       "        vertical-align: top;\n",
       "    }\n",
       "</style>\n",
       "<table border=\"1\" class=\"dataframe\">\n",
       "  <thead>\n",
       "    <tr style=\"text-align: right;\">\n",
       "      <th></th>\n",
       "      <th>user_id</th>\n",
       "      <th>timestamp</th>\n",
       "      <th>group</th>\n",
       "      <th>landing_page</th>\n",
       "      <th>converted</th>\n",
       "      <th>intercept</th>\n",
       "      <th>ab_test</th>\n",
       "      <th>country</th>\n",
       "      <th>country1</th>\n",
       "      <th>country2</th>\n",
       "      <th>country3</th>\n",
       "    </tr>\n",
       "  </thead>\n",
       "  <tbody>\n",
       "    <tr>\n",
       "      <th>0</th>\n",
       "      <td>851104</td>\n",
       "      <td>2017-01-21 22:11:48.556739</td>\n",
       "      <td>control</td>\n",
       "      <td>old_page</td>\n",
       "      <td>0</td>\n",
       "      <td>1</td>\n",
       "      <td>0</td>\n",
       "      <td>US</td>\n",
       "      <td>0</td>\n",
       "      <td>0</td>\n",
       "      <td>1</td>\n",
       "    </tr>\n",
       "    <tr>\n",
       "      <th>1</th>\n",
       "      <td>804228</td>\n",
       "      <td>2017-01-12 08:01:45.159739</td>\n",
       "      <td>control</td>\n",
       "      <td>old_page</td>\n",
       "      <td>0</td>\n",
       "      <td>1</td>\n",
       "      <td>0</td>\n",
       "      <td>US</td>\n",
       "      <td>0</td>\n",
       "      <td>0</td>\n",
       "      <td>1</td>\n",
       "    </tr>\n",
       "    <tr>\n",
       "      <th>2</th>\n",
       "      <td>864975</td>\n",
       "      <td>2017-01-21 01:52:26.210827</td>\n",
       "      <td>control</td>\n",
       "      <td>old_page</td>\n",
       "      <td>1</td>\n",
       "      <td>1</td>\n",
       "      <td>0</td>\n",
       "      <td>US</td>\n",
       "      <td>0</td>\n",
       "      <td>0</td>\n",
       "      <td>1</td>\n",
       "    </tr>\n",
       "    <tr>\n",
       "      <th>3</th>\n",
       "      <td>936923</td>\n",
       "      <td>2017-01-10 15:20:49.083499</td>\n",
       "      <td>control</td>\n",
       "      <td>old_page</td>\n",
       "      <td>0</td>\n",
       "      <td>1</td>\n",
       "      <td>0</td>\n",
       "      <td>US</td>\n",
       "      <td>0</td>\n",
       "      <td>0</td>\n",
       "      <td>1</td>\n",
       "    </tr>\n",
       "    <tr>\n",
       "      <th>4</th>\n",
       "      <td>719014</td>\n",
       "      <td>2017-01-17 01:48:29.539573</td>\n",
       "      <td>control</td>\n",
       "      <td>old_page</td>\n",
       "      <td>0</td>\n",
       "      <td>1</td>\n",
       "      <td>0</td>\n",
       "      <td>US</td>\n",
       "      <td>0</td>\n",
       "      <td>0</td>\n",
       "      <td>1</td>\n",
       "    </tr>\n",
       "  </tbody>\n",
       "</table>\n",
       "</div>"
      ],
      "text/plain": [
       "   user_id                   timestamp    group landing_page  converted  \\\n",
       "0   851104  2017-01-21 22:11:48.556739  control     old_page          0   \n",
       "1   804228  2017-01-12 08:01:45.159739  control     old_page          0   \n",
       "2   864975  2017-01-21 01:52:26.210827  control     old_page          1   \n",
       "3   936923  2017-01-10 15:20:49.083499  control     old_page          0   \n",
       "4   719014  2017-01-17 01:48:29.539573  control     old_page          0   \n",
       "\n",
       "   intercept  ab_test country  country1  country2  country3  \n",
       "0          1        0      US         0         0         1  \n",
       "1          1        0      US         0         0         1  \n",
       "2          1        0      US         0         0         1  \n",
       "3          1        0      US         0         0         1  \n",
       "4          1        0      US         0         0         1  "
      ]
     },
     "execution_count": 91,
     "metadata": {},
     "output_type": "execute_result"
    }
   ],
   "source": [
    "df2[['country1', 'country2', 'country3']]=pd.get_dummies(df2['country'])\n",
    "df2.head()"
   ]
  },
  {
   "cell_type": "markdown",
   "metadata": {},
   "source": [
    "h. Though you have now looked at the individual factors of country and page on conversion, we would now like to look at an interaction between page and country to see if there significant effects on conversion.  Create the necessary additional columns, and fit the new model.  \n",
    "\n",
    "Provide the summary results, and your conclusions based on the results."
   ]
  },
  {
   "cell_type": "code",
   "execution_count": 94,
   "metadata": {},
   "outputs": [
    {
     "name": "stdout",
     "output_type": "stream",
     "text": [
      "Optimization terminated successfully.\n",
      "         Current function value: 0.366113\n",
      "         Iterations 6\n"
     ]
    },
    {
     "data": {
      "text/html": [
       "<table class=\"simpletable\">\n",
       "<caption>Logit Regression Results</caption>\n",
       "<tr>\n",
       "  <th>Dep. Variable:</th>     <td>converted</td>    <th>  No. Observations:  </th>   <td>290584</td>   \n",
       "</tr>\n",
       "<tr>\n",
       "  <th>Model:</th>               <td>Logit</td>      <th>  Df Residuals:      </th>   <td>290580</td>   \n",
       "</tr>\n",
       "<tr>\n",
       "  <th>Method:</th>               <td>MLE</td>       <th>  Df Model:          </th>   <td>     3</td>   \n",
       "</tr>\n",
       "<tr>\n",
       "  <th>Date:</th>          <td>Sun, 16 Dec 2018</td> <th>  Pseudo R-squ.:     </th>  <td>2.323e-05</td> \n",
       "</tr>\n",
       "<tr>\n",
       "  <th>Time:</th>              <td>21:33:46</td>     <th>  Log-Likelihood:    </th> <td>-1.0639e+05</td>\n",
       "</tr>\n",
       "<tr>\n",
       "  <th>converged:</th>           <td>True</td>       <th>  LL-Null:           </th> <td>-1.0639e+05</td>\n",
       "</tr>\n",
       "<tr>\n",
       "  <th> </th>                      <td> </td>        <th>  LLR p-value:       </th>   <td>0.1760</td>   \n",
       "</tr>\n",
       "</table>\n",
       "<table class=\"simpletable\">\n",
       "<tr>\n",
       "      <td></td>         <th>coef</th>     <th>std err</th>      <th>z</th>      <th>P>|z|</th>  <th>[0.025</th>    <th>0.975]</th>  \n",
       "</tr>\n",
       "<tr>\n",
       "  <th>intercept</th> <td>   -1.9893</td> <td>    0.009</td> <td> -223.763</td> <td> 0.000</td> <td>   -2.007</td> <td>   -1.972</td>\n",
       "</tr>\n",
       "<tr>\n",
       "  <th>ab_test</th>   <td>   -0.0149</td> <td>    0.011</td> <td>   -1.307</td> <td> 0.191</td> <td>   -0.037</td> <td>    0.007</td>\n",
       "</tr>\n",
       "<tr>\n",
       "  <th>country1</th>  <td>   -0.0408</td> <td>    0.027</td> <td>   -1.516</td> <td> 0.130</td> <td>   -0.093</td> <td>    0.012</td>\n",
       "</tr>\n",
       "<tr>\n",
       "  <th>country2</th>  <td>    0.0099</td> <td>    0.013</td> <td>    0.743</td> <td> 0.457</td> <td>   -0.016</td> <td>    0.036</td>\n",
       "</tr>\n",
       "</table>"
      ],
      "text/plain": [
       "<class 'statsmodels.iolib.summary.Summary'>\n",
       "\"\"\"\n",
       "                           Logit Regression Results                           \n",
       "==============================================================================\n",
       "Dep. Variable:              converted   No. Observations:               290584\n",
       "Model:                          Logit   Df Residuals:                   290580\n",
       "Method:                           MLE   Df Model:                            3\n",
       "Date:                Sun, 16 Dec 2018   Pseudo R-squ.:               2.323e-05\n",
       "Time:                        21:33:46   Log-Likelihood:            -1.0639e+05\n",
       "converged:                       True   LL-Null:                   -1.0639e+05\n",
       "                                        LLR p-value:                    0.1760\n",
       "==============================================================================\n",
       "                 coef    std err          z      P>|z|      [0.025      0.975]\n",
       "------------------------------------------------------------------------------\n",
       "intercept     -1.9893      0.009   -223.763      0.000      -2.007      -1.972\n",
       "ab_test       -0.0149      0.011     -1.307      0.191      -0.037       0.007\n",
       "country1      -0.0408      0.027     -1.516      0.130      -0.093       0.012\n",
       "country2       0.0099      0.013      0.743      0.457      -0.016       0.036\n",
       "==============================================================================\n",
       "\"\"\""
      ]
     },
     "execution_count": 94,
     "metadata": {},
     "output_type": "execute_result"
    }
   ],
   "source": [
    "logit_model_countries=sm.Logit(df2['converted'], df2[['intercept', 'ab_test', 'country1', 'country2']])\n",
    "results=logit_model_countries.fit().summary()\n",
    "results"
   ]
  },
  {
   "cell_type": "markdown",
   "metadata": {},
   "source": [
    "<a id='conclusions'></a>\n",
    "## Finishing Up\n",
    "\n",
    "> Congratulations!  You have reached the end of the A/B Test Results project!  This is the final project in Term 1.  You should be very proud of all you have accomplished!\n",
    "\n",
    "> **Tip**: Once you are satisfied with your work here, check over your report to make sure that it is satisfies all the areas of the rubric (found on the project submission page at the end of the lesson). You should also probably remove all of the \"Tips\" like this one so that the presentation is as polished as possible.\n",
    "\n",
    "\n",
    "## Directions to Submit\n",
    "\n",
    "> Before you submit your project, you need to create a .html or .pdf version of this notebook in the workspace here. To do that, run the code cell below. If it worked correctly, you should get a return code of 0, and you should see the generated .html file in the workspace directory (click on the orange Jupyter icon in the upper left).\n",
    "\n",
    "> Alternatively, you can download this report as .html via the **File** > **Download as** submenu, and then manually upload it into the workspace directory by clicking on the orange Jupyter icon in the upper left, then using the Upload button.\n",
    "\n",
    "> Once you've done this, you can submit your project by clicking on the \"Submit Project\" button in the lower right here. This will create and submit a zip file with this .ipynb doc and the .html or .pdf version you created. Congratulations!"
   ]
  },
  {
   "cell_type": "code",
   "execution_count": null,
   "metadata": {},
   "outputs": [],
   "source": [
    "from subprocess import call\n",
    "call(['python', '-m', 'nbconvert', 'Analyze_ab_test_results_notebook.ipynb'])"
   ]
  }
 ],
 "metadata": {
  "kernelspec": {
   "display_name": "Python 3",
   "language": "python",
   "name": "python3"
  },
  "language_info": {
   "codemirror_mode": {
    "name": "ipython",
    "version": 3
   },
   "file_extension": ".py",
   "mimetype": "text/x-python",
   "name": "python",
   "nbconvert_exporter": "python",
   "pygments_lexer": "ipython3",
   "version": "3.6.3"
  }
 },
 "nbformat": 4,
 "nbformat_minor": 2
}
