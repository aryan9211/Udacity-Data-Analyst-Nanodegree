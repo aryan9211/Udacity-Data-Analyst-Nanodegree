{
 "cells": [
  {
   "cell_type": "markdown",
   "metadata": {},
   "source": [
    "# WeRateDogs - Data Wrangling Report"
   ]
  },
  {
   "cell_type": "markdown",
   "metadata": {},
   "source": [
    "### Data Gathering\n",
    "\n",
    "**twitter_archive dataset** had been downloaded manually.\n",
    "\n",
    "**image_predictions dataset** has been loaded using requests library as it is stored in a website.\n",
    "\n",
    "**tweets_json dataset** has been downloaded from a website as it was not possible to set up a Twitter developer account."
   ]
  },
  {
   "cell_type": "markdown",
   "metadata": {},
   "source": [
    "### Assessing Data\n",
    "\n",
    "Both visual and programmatic assessment have been used."
   ]
  },
  {
   "cell_type": "markdown",
   "metadata": {},
   "source": [
    "#### Cleaning issues:\n",
    "\n",
    "**twitter_archive**\n",
    "\n",
    "1. The column 'timestamp' is an object and not DateTime: QUALITY\n",
    " \n",
    "2. The 'name' column contains values that are not names QUALITY\n",
    " \n",
    "3. The columns 'doggo', 'floofer', 'pupper' and 'puppo' can be joint in a unique column 'stage' in order to have tidier dataset. Observations with multiple stages can be labeled as 'Multiple Stages'. QUALITY and TIDINESS\n",
    "\n",
    "4. The columns that contain values are retweets and not actual tweets of WeRateDogs. Only the columns that are NaN have to be kept. QUALITY\n",
    "\n",
    "5. Some ratings contain decimals, replace values in column 'rating_numerator' with actual values containing decimals. QUALITY\n",
    "\n",
    "6. There are missing values in 'retweeted_status_id', 'retweeted_status_user_id', 'retweeted_status_timestamp', 'in_reply_to_status_id', 'in_reply_to_user_id'. The columns can be dropped since they are not relevant for analysis purpose. QUALITY\n",
    "\n",
    "**image_predictions**\n",
    "\n",
    "7. Many dogs have been labeled as objects. The columns 'p1_dog', 'p2_dog', 'p3_dog' and 'p1_dog', 'p2_dog', 'p3_dog' can be joint by replacing the values in 'p' that do not correspond to dogs with 'None': QUALITY and TIDINESS\n",
    "\n",
    "8. Breed names do not start with capitals: QUALITY\n",
    "\n",
    "9. Whitespeces are represented with underscores: QUALITY\n",
    "\n",
    "**tweets_json**\n",
    "\n",
    "10. Values in 'display_text_range' are stored as lists, they need to be converted and only the last number has to be kept since it indicates the lenght of the text: QUALITY and TIDINESS\n",
    "\n",
    "**Overall issue**\n",
    "\n",
    "11. Information about tweets is stored in three different dataframes, therefore they must be merged into a single dataframe containing all the information: TIDINESS\n"
   ]
  },
  {
   "cell_type": "markdown",
   "metadata": {},
   "source": [
    "### Cleaning Data"
   ]
  },
  {
   "cell_type": "markdown",
   "metadata": {},
   "source": [
    "#### 1. \n",
    "\n",
    "The column 'timestamp' has to be converted to a DateTime datatype."
   ]
  },
  {
   "cell_type": "markdown",
   "metadata": {},
   "source": [
    "#### 2. \n",
    "\n",
    "The has been handled by creating a regex expression to extract the first occurrence of words starting with a lower case letter."
   ]
  },
  {
   "cell_type": "markdown",
   "metadata": {},
   "source": [
    "#### 3. \n",
    "\n",
    "The new column 'stage' have been filled out by extracting the words 'doggo', 'floofer', 'pupper' and 'puppo' from the 'text' column. If the text column contain more occurences of the abovementioned words, the value used in 'Multiple Stages'.\n",
    "\n",
    "After further assessing the column 'stage', missing values have been detected and it has been notices that the values have whitespaces and start with a lower case letter.\n",
    "\n",
    "Missing values have been replaced by 'None', the words have then been capitalized and the underscores replaced with a whitespeces."
   ]
  },
  {
   "cell_type": "markdown",
   "metadata": {},
   "source": [
    "#### 4. \n",
    "\n",
    "Only actual tweets have been kept."
   ]
  },
  {
   "cell_type": "markdown",
   "metadata": {},
   "source": [
    "#### 5. \n",
    "\n",
    "The correct ratings containing decimals have been extracted from the column 'text' and placed in the column 'rating_numerator'."
   ]
  },
  {
   "cell_type": "markdown",
   "metadata": {},
   "source": [
    "#### 6. \n",
    "\n",
    "The columns have been dropped since they are not relevant for the analysis."
   ]
  },
  {
   "cell_type": "markdown",
   "metadata": {},
   "source": [
    "#### 7. \n",
    "\n",
    "The column 'p1', 'p2', 'p3' should contain only names of dogs, but many are named as objects, because they are labeled as not dogs. The problem has been addressed by replacing the values in p1, p2, p3 with 'None' if the columns 'p1_dog', 'p2_dog', 'p3_dog' are False (dog has been labeled as not dog)."
   ]
  },
  {
   "cell_type": "markdown",
   "metadata": {},
   "source": [
    "#### 8. \n",
    "\n",
    "The words have been capitalized."
   ]
  },
  {
   "cell_type": "markdown",
   "metadata": {},
   "source": [
    "#### 9. \n",
    "\n",
    "Undercores have been replaced by whitespaces."
   ]
  },
  {
   "cell_type": "markdown",
   "metadata": {},
   "source": [
    "#### 10. \n",
    "\n",
    "The values contained in the list have been extracted. Only the last number, which indicates the number of characters in each tweet, has been kept."
   ]
  },
  {
   "cell_type": "markdown",
   "metadata": {},
   "source": [
    "### 11. \n",
    "\n",
    "It is possible to merge the dataframes on the column tweet id. In order to do such thing the column 'id' in tweets_json has been renamed as 'tweet_id'.\n",
    "    \n",
    "Having done so the dataframes can be merged and then saved as 'twitter_archive_master.csv'."
   ]
  },
  {
   "cell_type": "code",
   "execution_count": null,
   "metadata": {},
   "outputs": [],
   "source": []
  },
  {
   "cell_type": "code",
   "execution_count": null,
   "metadata": {},
   "outputs": [],
   "source": []
  },
  {
   "cell_type": "code",
   "execution_count": null,
   "metadata": {},
   "outputs": [],
   "source": []
  }
 ],
 "metadata": {
  "kernelspec": {
   "display_name": "Python 3",
   "language": "python",
   "name": "python3"
  },
  "language_info": {
   "codemirror_mode": {
    "name": "ipython",
    "version": 3
   },
   "file_extension": ".py",
   "mimetype": "text/x-python",
   "name": "python",
   "nbconvert_exporter": "python",
   "pygments_lexer": "ipython3",
   "version": "3.6.3"
  }
 },
 "nbformat": 4,
 "nbformat_minor": 2
}
