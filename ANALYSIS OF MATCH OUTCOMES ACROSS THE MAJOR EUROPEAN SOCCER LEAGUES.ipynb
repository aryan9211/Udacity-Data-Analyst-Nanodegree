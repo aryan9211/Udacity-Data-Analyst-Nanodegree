{
 "cells": [
  {
   "cell_type": "markdown",
   "metadata": {},
   "source": [
    "# **ANALYSIS OF MATCH OUTCOUMES ACROSS THE MAJOR EUROPEAN SOCCER LEAGUES**\n",
    "\n",
    "### **Table of Contents**\n",
    "<ul>\n",
    "<li><a href=\"#intro\">Introduction</a></li>\n",
    "<li><a href=\"#wrangling\">Data Wrangling</a></li>\n",
    "<li><a href=\"#eda\">Exploratory Data Analysis</a></li>\n",
    "<li><a href=\"#conclusions\">Conclusions</a></li>\n",
    "</ul"
   ]
  },
  {
   "cell_type": "markdown",
   "metadata": {},
   "source": [
    "<a id='intro'></a>\n",
    "## **Introduction**\n",
    "\n",
    "The aim of the project is to analyse the European Soccer Dataset (available on Kaggle https://www.kaggle.com/hugomathien/soccer/home)\n",
    "containing results of matches played from 2008 to 2016 across the major european leagues and answering the following questions:\n",
    "\n",
    "- How is the amount of goal scored distributed? How is it evolving?\n",
    "\n",
    "- In which leagues are matches most likely to end up with three or more goal?\n",
    "\n",
    "- Which teams have scored the most?\n",
    "\n",
    "- Has european football become more or less equilibrated?\n",
    "\n",
    "- Which are the most equilibrated leagues?\n",
    "\n",
    "- Is there any evidence of home advantage?\n",
    "\n",
    "As a measure of competitiveness it has been chosen the difference of the goals scored by the two teams. If the such difference is low, the match is assumed to be more equilibrated. Hence, if a league shows a low goal difference for each match, it is assumed to be more equilibrated and unpredictable.\n",
    "\n",
    "The final question is aimed to show if during the seasons from 2008 and 2016 it has been a substantial home advantage. The home advantage is defined as the benefit that the home team is said to gain over the visiting team (https://en.wikipedia.org/wiki/Home_advantage) and it may be due to many different factors that we are not takining into consideration in this analysis. The main goal here is to find ou whether or not there had been evidence of home advantage during the perion under analysis."
   ]
  },
  {
   "cell_type": "markdown",
   "metadata": {},
   "source": [
    "<a id='wrangling'></a>\n",
    "## **Data Wrangling**"
   ]
  },
  {
   "cell_type": "code",
   "execution_count": 28,
   "metadata": {},
   "outputs": [],
   "source": [
    "#Importing libraries and setting plotstyle.\n",
    "import pandas as pd\n",
    "import numpy as np\n",
    "import matplotlib.pyplot as plt\n",
    "import seaborn as sns\n",
    "import sqlite3\n",
    "plt.style.use('seaborn-darkgrid')\n",
    "sns.set(style='darkgrid', context='notebook', rc={'figure.figsize':(12,6)})"
   ]
  },
  {
   "cell_type": "markdown",
   "metadata": {},
   "source": [
    "Before analyzing the data we need to extract them from the database. In order to do so we need to:\n",
    "\n",
    "1. Establish a connection to the data base;\n",
    "\n",
    "2. Write SQL queries to extract them, since the data is stored in a SQL database."
   ]
  },
  {
   "cell_type": "code",
   "execution_count": 2,
   "metadata": {},
   "outputs": [],
   "source": [
    "# 1. Establish a connection to database.\n",
    "conn=sqlite3.connect('database.sqlite')\n",
    "\n",
    "# 2. Query needed data.\n",
    "match_data=pd.read_sql_query('select league_id, season, date, home_team_api_id, away_team_api_id, home_team_goal, away_team_goal from Match;', conn, parse_dates=True)\n",
    "league_data=pd.read_sql_query('select id, name AS league from League;', conn)\n",
    "team_data=pd.read_sql_query('select team_api_id, team_long_name from Team;', conn)"
   ]
  },
  {
   "cell_type": "markdown",
   "metadata": {},
   "source": [
    "The next step is to check if datatypes are correct and if any data is missing."
   ]
  },
  {
   "cell_type": "code",
   "execution_count": 3,
   "metadata": {},
   "outputs": [
    {
     "name": "stdout",
     "output_type": "stream",
     "text": [
      "<class 'pandas.core.frame.DataFrame'>\n",
      "RangeIndex: 25979 entries, 0 to 25978\n",
      "Data columns (total 7 columns):\n",
      "league_id           25979 non-null int64\n",
      "season              25979 non-null object\n",
      "date                25979 non-null object\n",
      "home_team_api_id    25979 non-null int64\n",
      "away_team_api_id    25979 non-null int64\n",
      "home_team_goal      25979 non-null int64\n",
      "away_team_goal      25979 non-null int64\n",
      "dtypes: int64(5), object(2)\n",
      "memory usage: 1.4+ MB\n"
     ]
    }
   ],
   "source": [
    "match_data.info()"
   ]
  },
  {
   "cell_type": "code",
   "execution_count": 4,
   "metadata": {},
   "outputs": [
    {
     "name": "stdout",
     "output_type": "stream",
     "text": [
      "<class 'pandas.core.frame.DataFrame'>\n",
      "RangeIndex: 11 entries, 0 to 10\n",
      "Data columns (total 2 columns):\n",
      "id        11 non-null int64\n",
      "league    11 non-null object\n",
      "dtypes: int64(1), object(1)\n",
      "memory usage: 256.0+ bytes\n"
     ]
    }
   ],
   "source": [
    "league_data.info()"
   ]
  },
  {
   "cell_type": "code",
   "execution_count": 5,
   "metadata": {},
   "outputs": [
    {
     "name": "stdout",
     "output_type": "stream",
     "text": [
      "<class 'pandas.core.frame.DataFrame'>\n",
      "RangeIndex: 299 entries, 0 to 298\n",
      "Data columns (total 2 columns):\n",
      "team_api_id       299 non-null int64\n",
      "team_long_name    299 non-null object\n",
      "dtypes: int64(1), object(1)\n",
      "memory usage: 4.8+ KB\n"
     ]
    }
   ],
   "source": [
    "team_data.info()"
   ]
  },
  {
   "cell_type": "markdown",
   "metadata": {},
   "source": [
    "There is no missing data, only the column 'date' in match_data needs to be converted from object (string) to date time format."
   ]
  },
  {
   "cell_type": "code",
   "execution_count": 6,
   "metadata": {},
   "outputs": [
    {
     "name": "stdout",
     "output_type": "stream",
     "text": [
      "<class 'pandas.core.frame.DataFrame'>\n",
      "RangeIndex: 25979 entries, 0 to 25978\n",
      "Data columns (total 7 columns):\n",
      "league_id           25979 non-null int64\n",
      "season              25979 non-null object\n",
      "date                25979 non-null datetime64[ns]\n",
      "home_team_api_id    25979 non-null int64\n",
      "away_team_api_id    25979 non-null int64\n",
      "home_team_goal      25979 non-null int64\n",
      "away_team_goal      25979 non-null int64\n",
      "dtypes: datetime64[ns](1), int64(5), object(1)\n",
      "memory usage: 1.4+ MB\n"
     ]
    }
   ],
   "source": [
    "#Tidy date column.\n",
    "match_data['date']=pd.to_datetime(match_data['date'],format='%Y-%m-%d')\n",
    "\n",
    "match_data.sort_values('date')\n",
    "\n",
    "#Check results.\n",
    "match_data.info()"
   ]
  },
  {
   "cell_type": "markdown",
   "metadata": {},
   "source": [
    "As you can see, the datatype of the column 'date' changed from object to datetime."
   ]
  },
  {
   "cell_type": "markdown",
   "metadata": {},
   "source": [
    "### **Data Cleaning**\n",
    "\n",
    "- Merge match_data and league_data in order to replace league_id with league name.\n",
    "\n",
    "- Merge match_data and team_data in order to replace team_id with team name.\n",
    "\n",
    "- Rename columns.\n",
    "\n",
    "- Drop columns that are not relevant for the analysis."
   ]
  },
  {
   "cell_type": "code",
   "execution_count": 7,
   "metadata": {},
   "outputs": [
    {
     "data": {
      "text/html": [
       "<div>\n",
       "<style>\n",
       "    .dataframe thead tr:only-child th {\n",
       "        text-align: right;\n",
       "    }\n",
       "\n",
       "    .dataframe thead th {\n",
       "        text-align: left;\n",
       "    }\n",
       "\n",
       "    .dataframe tbody tr th {\n",
       "        vertical-align: top;\n",
       "    }\n",
       "</style>\n",
       "<table border=\"1\" class=\"dataframe\">\n",
       "  <thead>\n",
       "    <tr style=\"text-align: right;\">\n",
       "      <th></th>\n",
       "      <th>league_id</th>\n",
       "      <th>season</th>\n",
       "      <th>date</th>\n",
       "      <th>home_team_api_id</th>\n",
       "      <th>away_team_api_id</th>\n",
       "      <th>home_team_goal</th>\n",
       "      <th>away_team_goal</th>\n",
       "      <th>id</th>\n",
       "      <th>league</th>\n",
       "    </tr>\n",
       "  </thead>\n",
       "  <tbody>\n",
       "    <tr>\n",
       "      <th>0</th>\n",
       "      <td>1</td>\n",
       "      <td>2008/2009</td>\n",
       "      <td>2008-08-17</td>\n",
       "      <td>9987</td>\n",
       "      <td>9993</td>\n",
       "      <td>1</td>\n",
       "      <td>1</td>\n",
       "      <td>1</td>\n",
       "      <td>Belgium Jupiler League</td>\n",
       "    </tr>\n",
       "    <tr>\n",
       "      <th>1</th>\n",
       "      <td>1</td>\n",
       "      <td>2008/2009</td>\n",
       "      <td>2008-08-16</td>\n",
       "      <td>10000</td>\n",
       "      <td>9994</td>\n",
       "      <td>0</td>\n",
       "      <td>0</td>\n",
       "      <td>1</td>\n",
       "      <td>Belgium Jupiler League</td>\n",
       "    </tr>\n",
       "    <tr>\n",
       "      <th>2</th>\n",
       "      <td>1</td>\n",
       "      <td>2008/2009</td>\n",
       "      <td>2008-08-16</td>\n",
       "      <td>9984</td>\n",
       "      <td>8635</td>\n",
       "      <td>0</td>\n",
       "      <td>3</td>\n",
       "      <td>1</td>\n",
       "      <td>Belgium Jupiler League</td>\n",
       "    </tr>\n",
       "    <tr>\n",
       "      <th>3</th>\n",
       "      <td>1</td>\n",
       "      <td>2008/2009</td>\n",
       "      <td>2008-08-17</td>\n",
       "      <td>9991</td>\n",
       "      <td>9998</td>\n",
       "      <td>5</td>\n",
       "      <td>0</td>\n",
       "      <td>1</td>\n",
       "      <td>Belgium Jupiler League</td>\n",
       "    </tr>\n",
       "    <tr>\n",
       "      <th>4</th>\n",
       "      <td>1</td>\n",
       "      <td>2008/2009</td>\n",
       "      <td>2008-08-16</td>\n",
       "      <td>7947</td>\n",
       "      <td>9985</td>\n",
       "      <td>1</td>\n",
       "      <td>3</td>\n",
       "      <td>1</td>\n",
       "      <td>Belgium Jupiler League</td>\n",
       "    </tr>\n",
       "  </tbody>\n",
       "</table>\n",
       "</div>"
      ],
      "text/plain": [
       "   league_id     season       date  home_team_api_id  away_team_api_id  \\\n",
       "0          1  2008/2009 2008-08-17              9987              9993   \n",
       "1          1  2008/2009 2008-08-16             10000              9994   \n",
       "2          1  2008/2009 2008-08-16              9984              8635   \n",
       "3          1  2008/2009 2008-08-17              9991              9998   \n",
       "4          1  2008/2009 2008-08-16              7947              9985   \n",
       "\n",
       "   home_team_goal  away_team_goal  id                  league  \n",
       "0               1               1   1  Belgium Jupiler League  \n",
       "1               0               0   1  Belgium Jupiler League  \n",
       "2               0               3   1  Belgium Jupiler League  \n",
       "3               5               0   1  Belgium Jupiler League  \n",
       "4               1               3   1  Belgium Jupiler League  "
      ]
     },
     "execution_count": 7,
     "metadata": {},
     "output_type": "execute_result"
    }
   ],
   "source": [
    "#Merge match_data and league_data in order to replace league_id with league name.\n",
    "match_data=pd.merge(match_data, league_data, how='inner',left_on='league_id',right_on='id')\n",
    "match_data.head()"
   ]
  },
  {
   "cell_type": "code",
   "execution_count": 8,
   "metadata": {},
   "outputs": [
    {
     "data": {
      "text/html": [
       "<div>\n",
       "<style>\n",
       "    .dataframe thead tr:only-child th {\n",
       "        text-align: right;\n",
       "    }\n",
       "\n",
       "    .dataframe thead th {\n",
       "        text-align: left;\n",
       "    }\n",
       "\n",
       "    .dataframe tbody tr th {\n",
       "        vertical-align: top;\n",
       "    }\n",
       "</style>\n",
       "<table border=\"1\" class=\"dataframe\">\n",
       "  <thead>\n",
       "    <tr style=\"text-align: right;\">\n",
       "      <th></th>\n",
       "      <th>league_id</th>\n",
       "      <th>season</th>\n",
       "      <th>date</th>\n",
       "      <th>home_team_api_id</th>\n",
       "      <th>away_team_api_id</th>\n",
       "      <th>home_team_goal</th>\n",
       "      <th>away_team_goal</th>\n",
       "      <th>id</th>\n",
       "      <th>league</th>\n",
       "      <th>team_api_id_</th>\n",
       "      <th>team_long_name_</th>\n",
       "      <th>team_api_ida</th>\n",
       "      <th>team_long_namea</th>\n",
       "    </tr>\n",
       "  </thead>\n",
       "  <tbody>\n",
       "    <tr>\n",
       "      <th>0</th>\n",
       "      <td>1</td>\n",
       "      <td>2008/2009</td>\n",
       "      <td>2008-08-17</td>\n",
       "      <td>9987</td>\n",
       "      <td>9993</td>\n",
       "      <td>1</td>\n",
       "      <td>1</td>\n",
       "      <td>1</td>\n",
       "      <td>Belgium Jupiler League</td>\n",
       "      <td>9987</td>\n",
       "      <td>KRC Genk</td>\n",
       "      <td>9993</td>\n",
       "      <td>Beerschot AC</td>\n",
       "    </tr>\n",
       "    <tr>\n",
       "      <th>1</th>\n",
       "      <td>1</td>\n",
       "      <td>2009/2010</td>\n",
       "      <td>2009-08-30</td>\n",
       "      <td>9987</td>\n",
       "      <td>9993</td>\n",
       "      <td>1</td>\n",
       "      <td>1</td>\n",
       "      <td>1</td>\n",
       "      <td>Belgium Jupiler League</td>\n",
       "      <td>9987</td>\n",
       "      <td>KRC Genk</td>\n",
       "      <td>9993</td>\n",
       "      <td>Beerschot AC</td>\n",
       "    </tr>\n",
       "    <tr>\n",
       "      <th>2</th>\n",
       "      <td>1</td>\n",
       "      <td>2010/2011</td>\n",
       "      <td>2010-08-01</td>\n",
       "      <td>9987</td>\n",
       "      <td>9993</td>\n",
       "      <td>2</td>\n",
       "      <td>1</td>\n",
       "      <td>1</td>\n",
       "      <td>Belgium Jupiler League</td>\n",
       "      <td>9987</td>\n",
       "      <td>KRC Genk</td>\n",
       "      <td>9993</td>\n",
       "      <td>Beerschot AC</td>\n",
       "    </tr>\n",
       "    <tr>\n",
       "      <th>3</th>\n",
       "      <td>1</td>\n",
       "      <td>2011/2012</td>\n",
       "      <td>2011-07-30</td>\n",
       "      <td>9987</td>\n",
       "      <td>9993</td>\n",
       "      <td>3</td>\n",
       "      <td>1</td>\n",
       "      <td>1</td>\n",
       "      <td>Belgium Jupiler League</td>\n",
       "      <td>9987</td>\n",
       "      <td>KRC Genk</td>\n",
       "      <td>9993</td>\n",
       "      <td>Beerschot AC</td>\n",
       "    </tr>\n",
       "    <tr>\n",
       "      <th>4</th>\n",
       "      <td>1</td>\n",
       "      <td>2012/2013</td>\n",
       "      <td>2012-10-20</td>\n",
       "      <td>9987</td>\n",
       "      <td>9993</td>\n",
       "      <td>3</td>\n",
       "      <td>0</td>\n",
       "      <td>1</td>\n",
       "      <td>Belgium Jupiler League</td>\n",
       "      <td>9987</td>\n",
       "      <td>KRC Genk</td>\n",
       "      <td>9993</td>\n",
       "      <td>Beerschot AC</td>\n",
       "    </tr>\n",
       "  </tbody>\n",
       "</table>\n",
       "</div>"
      ],
      "text/plain": [
       "   league_id     season       date  home_team_api_id  away_team_api_id  \\\n",
       "0          1  2008/2009 2008-08-17              9987              9993   \n",
       "1          1  2009/2010 2009-08-30              9987              9993   \n",
       "2          1  2010/2011 2010-08-01              9987              9993   \n",
       "3          1  2011/2012 2011-07-30              9987              9993   \n",
       "4          1  2012/2013 2012-10-20              9987              9993   \n",
       "\n",
       "   home_team_goal  away_team_goal  id                  league  team_api_id_  \\\n",
       "0               1               1   1  Belgium Jupiler League          9987   \n",
       "1               1               1   1  Belgium Jupiler League          9987   \n",
       "2               2               1   1  Belgium Jupiler League          9987   \n",
       "3               3               1   1  Belgium Jupiler League          9987   \n",
       "4               3               0   1  Belgium Jupiler League          9987   \n",
       "\n",
       "  team_long_name_  team_api_ida team_long_namea  \n",
       "0        KRC Genk          9993    Beerschot AC  \n",
       "1        KRC Genk          9993    Beerschot AC  \n",
       "2        KRC Genk          9993    Beerschot AC  \n",
       "3        KRC Genk          9993    Beerschot AC  \n",
       "4        KRC Genk          9993    Beerschot AC  "
      ]
     },
     "execution_count": 8,
     "metadata": {},
     "output_type": "execute_result"
    }
   ],
   "source": [
    "#Merge match_data and team_data in order to replace team_id with team name. \n",
    "match_data=match_data.merge(team_data, left_on='home_team_api_id',right_on='team_api_id')\n",
    "match_data=match_data.merge(team_data, left_on='away_team_api_id',right_on='team_api_id',suffixes=('_a'))\n",
    "match_data.head()"
   ]
  },
  {
   "cell_type": "markdown",
   "metadata": {},
   "source": [
    "The parameter 'suffixies' has been added to the merge function in order to differentiate between team_long_name for home_team and away_team. Such parameter has to be used everytime the columns overlap after merging two dataframes."
   ]
  },
  {
   "cell_type": "code",
   "execution_count": 9,
   "metadata": {},
   "outputs": [
    {
     "data": {
      "text/html": [
       "<div>\n",
       "<style>\n",
       "    .dataframe thead tr:only-child th {\n",
       "        text-align: right;\n",
       "    }\n",
       "\n",
       "    .dataframe thead th {\n",
       "        text-align: left;\n",
       "    }\n",
       "\n",
       "    .dataframe tbody tr th {\n",
       "        vertical-align: top;\n",
       "    }\n",
       "</style>\n",
       "<table border=\"1\" class=\"dataframe\">\n",
       "  <thead>\n",
       "    <tr style=\"text-align: right;\">\n",
       "      <th></th>\n",
       "      <th>league_id</th>\n",
       "      <th>season</th>\n",
       "      <th>date</th>\n",
       "      <th>home_team_api_id</th>\n",
       "      <th>away_team_api_id</th>\n",
       "      <th>home_team_goal</th>\n",
       "      <th>away_team_goal</th>\n",
       "      <th>id</th>\n",
       "      <th>league</th>\n",
       "      <th>team_api_id_</th>\n",
       "      <th>home_team</th>\n",
       "      <th>team_api_ida</th>\n",
       "      <th>away_team</th>\n",
       "    </tr>\n",
       "  </thead>\n",
       "  <tbody>\n",
       "    <tr>\n",
       "      <th>0</th>\n",
       "      <td>1</td>\n",
       "      <td>2008/2009</td>\n",
       "      <td>2008-08-17</td>\n",
       "      <td>9987</td>\n",
       "      <td>9993</td>\n",
       "      <td>1</td>\n",
       "      <td>1</td>\n",
       "      <td>1</td>\n",
       "      <td>Belgium Jupiler League</td>\n",
       "      <td>9987</td>\n",
       "      <td>KRC Genk</td>\n",
       "      <td>9993</td>\n",
       "      <td>Beerschot AC</td>\n",
       "    </tr>\n",
       "    <tr>\n",
       "      <th>1</th>\n",
       "      <td>1</td>\n",
       "      <td>2009/2010</td>\n",
       "      <td>2009-08-30</td>\n",
       "      <td>9987</td>\n",
       "      <td>9993</td>\n",
       "      <td>1</td>\n",
       "      <td>1</td>\n",
       "      <td>1</td>\n",
       "      <td>Belgium Jupiler League</td>\n",
       "      <td>9987</td>\n",
       "      <td>KRC Genk</td>\n",
       "      <td>9993</td>\n",
       "      <td>Beerschot AC</td>\n",
       "    </tr>\n",
       "    <tr>\n",
       "      <th>2</th>\n",
       "      <td>1</td>\n",
       "      <td>2010/2011</td>\n",
       "      <td>2010-08-01</td>\n",
       "      <td>9987</td>\n",
       "      <td>9993</td>\n",
       "      <td>2</td>\n",
       "      <td>1</td>\n",
       "      <td>1</td>\n",
       "      <td>Belgium Jupiler League</td>\n",
       "      <td>9987</td>\n",
       "      <td>KRC Genk</td>\n",
       "      <td>9993</td>\n",
       "      <td>Beerschot AC</td>\n",
       "    </tr>\n",
       "    <tr>\n",
       "      <th>3</th>\n",
       "      <td>1</td>\n",
       "      <td>2011/2012</td>\n",
       "      <td>2011-07-30</td>\n",
       "      <td>9987</td>\n",
       "      <td>9993</td>\n",
       "      <td>3</td>\n",
       "      <td>1</td>\n",
       "      <td>1</td>\n",
       "      <td>Belgium Jupiler League</td>\n",
       "      <td>9987</td>\n",
       "      <td>KRC Genk</td>\n",
       "      <td>9993</td>\n",
       "      <td>Beerschot AC</td>\n",
       "    </tr>\n",
       "    <tr>\n",
       "      <th>4</th>\n",
       "      <td>1</td>\n",
       "      <td>2012/2013</td>\n",
       "      <td>2012-10-20</td>\n",
       "      <td>9987</td>\n",
       "      <td>9993</td>\n",
       "      <td>3</td>\n",
       "      <td>0</td>\n",
       "      <td>1</td>\n",
       "      <td>Belgium Jupiler League</td>\n",
       "      <td>9987</td>\n",
       "      <td>KRC Genk</td>\n",
       "      <td>9993</td>\n",
       "      <td>Beerschot AC</td>\n",
       "    </tr>\n",
       "  </tbody>\n",
       "</table>\n",
       "</div>"
      ],
      "text/plain": [
       "   league_id     season       date  home_team_api_id  away_team_api_id  \\\n",
       "0          1  2008/2009 2008-08-17              9987              9993   \n",
       "1          1  2009/2010 2009-08-30              9987              9993   \n",
       "2          1  2010/2011 2010-08-01              9987              9993   \n",
       "3          1  2011/2012 2011-07-30              9987              9993   \n",
       "4          1  2012/2013 2012-10-20              9987              9993   \n",
       "\n",
       "   home_team_goal  away_team_goal  id                  league  team_api_id_  \\\n",
       "0               1               1   1  Belgium Jupiler League          9987   \n",
       "1               1               1   1  Belgium Jupiler League          9987   \n",
       "2               2               1   1  Belgium Jupiler League          9987   \n",
       "3               3               1   1  Belgium Jupiler League          9987   \n",
       "4               3               0   1  Belgium Jupiler League          9987   \n",
       "\n",
       "  home_team  team_api_ida     away_team  \n",
       "0  KRC Genk          9993  Beerschot AC  \n",
       "1  KRC Genk          9993  Beerschot AC  \n",
       "2  KRC Genk          9993  Beerschot AC  \n",
       "3  KRC Genk          9993  Beerschot AC  \n",
       "4  KRC Genk          9993  Beerschot AC  "
      ]
     },
     "execution_count": 9,
     "metadata": {},
     "output_type": "execute_result"
    }
   ],
   "source": [
    "#Rename columns.\n",
    "match_data.rename(index=str,columns={'team_long_name_':'home_team','team_long_namea':'away_team'},inplace=True)\n",
    "match_data.head()"
   ]
  },
  {
   "cell_type": "code",
   "execution_count": 10,
   "metadata": {},
   "outputs": [
    {
     "data": {
      "text/html": [
       "<div>\n",
       "<style>\n",
       "    .dataframe thead tr:only-child th {\n",
       "        text-align: right;\n",
       "    }\n",
       "\n",
       "    .dataframe thead th {\n",
       "        text-align: left;\n",
       "    }\n",
       "\n",
       "    .dataframe tbody tr th {\n",
       "        vertical-align: top;\n",
       "    }\n",
       "</style>\n",
       "<table border=\"1\" class=\"dataframe\">\n",
       "  <thead>\n",
       "    <tr style=\"text-align: right;\">\n",
       "      <th></th>\n",
       "      <th>season</th>\n",
       "      <th>date</th>\n",
       "      <th>home_team_goal</th>\n",
       "      <th>away_team_goal</th>\n",
       "      <th>league</th>\n",
       "      <th>home_team</th>\n",
       "      <th>away_team</th>\n",
       "    </tr>\n",
       "  </thead>\n",
       "  <tbody>\n",
       "    <tr>\n",
       "      <th>0</th>\n",
       "      <td>2008/2009</td>\n",
       "      <td>2008-08-17</td>\n",
       "      <td>1</td>\n",
       "      <td>1</td>\n",
       "      <td>Belgium Jupiler League</td>\n",
       "      <td>KRC Genk</td>\n",
       "      <td>Beerschot AC</td>\n",
       "    </tr>\n",
       "    <tr>\n",
       "      <th>1</th>\n",
       "      <td>2009/2010</td>\n",
       "      <td>2009-08-30</td>\n",
       "      <td>1</td>\n",
       "      <td>1</td>\n",
       "      <td>Belgium Jupiler League</td>\n",
       "      <td>KRC Genk</td>\n",
       "      <td>Beerschot AC</td>\n",
       "    </tr>\n",
       "    <tr>\n",
       "      <th>2</th>\n",
       "      <td>2010/2011</td>\n",
       "      <td>2010-08-01</td>\n",
       "      <td>2</td>\n",
       "      <td>1</td>\n",
       "      <td>Belgium Jupiler League</td>\n",
       "      <td>KRC Genk</td>\n",
       "      <td>Beerschot AC</td>\n",
       "    </tr>\n",
       "    <tr>\n",
       "      <th>3</th>\n",
       "      <td>2011/2012</td>\n",
       "      <td>2011-07-30</td>\n",
       "      <td>3</td>\n",
       "      <td>1</td>\n",
       "      <td>Belgium Jupiler League</td>\n",
       "      <td>KRC Genk</td>\n",
       "      <td>Beerschot AC</td>\n",
       "    </tr>\n",
       "    <tr>\n",
       "      <th>4</th>\n",
       "      <td>2012/2013</td>\n",
       "      <td>2012-10-20</td>\n",
       "      <td>3</td>\n",
       "      <td>0</td>\n",
       "      <td>Belgium Jupiler League</td>\n",
       "      <td>KRC Genk</td>\n",
       "      <td>Beerschot AC</td>\n",
       "    </tr>\n",
       "  </tbody>\n",
       "</table>\n",
       "</div>"
      ],
      "text/plain": [
       "      season       date  home_team_goal  away_team_goal  \\\n",
       "0  2008/2009 2008-08-17               1               1   \n",
       "1  2009/2010 2009-08-30               1               1   \n",
       "2  2010/2011 2010-08-01               2               1   \n",
       "3  2011/2012 2011-07-30               3               1   \n",
       "4  2012/2013 2012-10-20               3               0   \n",
       "\n",
       "                   league home_team     away_team  \n",
       "0  Belgium Jupiler League  KRC Genk  Beerschot AC  \n",
       "1  Belgium Jupiler League  KRC Genk  Beerschot AC  \n",
       "2  Belgium Jupiler League  KRC Genk  Beerschot AC  \n",
       "3  Belgium Jupiler League  KRC Genk  Beerschot AC  \n",
       "4  Belgium Jupiler League  KRC Genk  Beerschot AC  "
      ]
     },
     "execution_count": 10,
     "metadata": {},
     "output_type": "execute_result"
    }
   ],
   "source": [
    "#Drop not relevant columns and ckeck final result.\n",
    "match_data.drop(['league_id','home_team_api_id','away_team_api_id', 'id', 'team_api_id_','team_api_ida'], axis=1, inplace=True)\n",
    "match_data.head()"
   ]
  },
  {
   "cell_type": "markdown",
   "metadata": {},
   "source": [
    "### **Create new variables**\n",
    "\n",
    "In order to carry out the analysis the creation of the following variables is needed:\n",
    "\n",
    "- **goal_sum**: sum of goal scored in each match.\n",
    "\n",
    "- **goal_diff**: difference between goals scored by the two team. It is assumed to be the measure of balancedness of a match or a league.\n",
    "\n",
    "- **1X2**: final resul of the match. 1 if home_team won, X if draw and 2 if away_team won.\n",
    "\n",
    "- **under_over**: over if goal_sum>=3, otherwise under.\n",
    "\n",
    "- **home1X**: yes if home_team won or draw, no if away_team won."
   ]
  },
  {
   "cell_type": "code",
   "execution_count": 11,
   "metadata": {},
   "outputs": [
    {
     "data": {
      "text/html": [
       "<div>\n",
       "<style>\n",
       "    .dataframe thead tr:only-child th {\n",
       "        text-align: right;\n",
       "    }\n",
       "\n",
       "    .dataframe thead th {\n",
       "        text-align: left;\n",
       "    }\n",
       "\n",
       "    .dataframe tbody tr th {\n",
       "        vertical-align: top;\n",
       "    }\n",
       "</style>\n",
       "<table border=\"1\" class=\"dataframe\">\n",
       "  <thead>\n",
       "    <tr style=\"text-align: right;\">\n",
       "      <th></th>\n",
       "      <th>season</th>\n",
       "      <th>date</th>\n",
       "      <th>home_team_goal</th>\n",
       "      <th>away_team_goal</th>\n",
       "      <th>league</th>\n",
       "      <th>home_team</th>\n",
       "      <th>away_team</th>\n",
       "      <th>goal_diff</th>\n",
       "    </tr>\n",
       "  </thead>\n",
       "  <tbody>\n",
       "    <tr>\n",
       "      <th>0</th>\n",
       "      <td>2008/2009</td>\n",
       "      <td>2008-08-17</td>\n",
       "      <td>1</td>\n",
       "      <td>1</td>\n",
       "      <td>Belgium Jupiler League</td>\n",
       "      <td>KRC Genk</td>\n",
       "      <td>Beerschot AC</td>\n",
       "      <td>0</td>\n",
       "    </tr>\n",
       "    <tr>\n",
       "      <th>1</th>\n",
       "      <td>2009/2010</td>\n",
       "      <td>2009-08-30</td>\n",
       "      <td>1</td>\n",
       "      <td>1</td>\n",
       "      <td>Belgium Jupiler League</td>\n",
       "      <td>KRC Genk</td>\n",
       "      <td>Beerschot AC</td>\n",
       "      <td>0</td>\n",
       "    </tr>\n",
       "    <tr>\n",
       "      <th>2</th>\n",
       "      <td>2010/2011</td>\n",
       "      <td>2010-08-01</td>\n",
       "      <td>2</td>\n",
       "      <td>1</td>\n",
       "      <td>Belgium Jupiler League</td>\n",
       "      <td>KRC Genk</td>\n",
       "      <td>Beerschot AC</td>\n",
       "      <td>1</td>\n",
       "    </tr>\n",
       "    <tr>\n",
       "      <th>3</th>\n",
       "      <td>2011/2012</td>\n",
       "      <td>2011-07-30</td>\n",
       "      <td>3</td>\n",
       "      <td>1</td>\n",
       "      <td>Belgium Jupiler League</td>\n",
       "      <td>KRC Genk</td>\n",
       "      <td>Beerschot AC</td>\n",
       "      <td>2</td>\n",
       "    </tr>\n",
       "    <tr>\n",
       "      <th>4</th>\n",
       "      <td>2012/2013</td>\n",
       "      <td>2012-10-20</td>\n",
       "      <td>3</td>\n",
       "      <td>0</td>\n",
       "      <td>Belgium Jupiler League</td>\n",
       "      <td>KRC Genk</td>\n",
       "      <td>Beerschot AC</td>\n",
       "      <td>3</td>\n",
       "    </tr>\n",
       "  </tbody>\n",
       "</table>\n",
       "</div>"
      ],
      "text/plain": [
       "      season       date  home_team_goal  away_team_goal  \\\n",
       "0  2008/2009 2008-08-17               1               1   \n",
       "1  2009/2010 2009-08-30               1               1   \n",
       "2  2010/2011 2010-08-01               2               1   \n",
       "3  2011/2012 2011-07-30               3               1   \n",
       "4  2012/2013 2012-10-20               3               0   \n",
       "\n",
       "                   league home_team     away_team  goal_diff  \n",
       "0  Belgium Jupiler League  KRC Genk  Beerschot AC          0  \n",
       "1  Belgium Jupiler League  KRC Genk  Beerschot AC          0  \n",
       "2  Belgium Jupiler League  KRC Genk  Beerschot AC          1  \n",
       "3  Belgium Jupiler League  KRC Genk  Beerschot AC          2  \n",
       "4  Belgium Jupiler League  KRC Genk  Beerschot AC          3  "
      ]
     },
     "execution_count": 11,
     "metadata": {},
     "output_type": "execute_result"
    }
   ],
   "source": [
    "#Create variable goal_diff\n",
    "match_data['goal_diff']=abs(match_data['home_team_goal']-match_data['away_team_goal'])\n",
    "match_data.head()"
   ]
  },
  {
   "cell_type": "code",
   "execution_count": 12,
   "metadata": {},
   "outputs": [
    {
     "data": {
      "text/html": [
       "<div>\n",
       "<style>\n",
       "    .dataframe thead tr:only-child th {\n",
       "        text-align: right;\n",
       "    }\n",
       "\n",
       "    .dataframe thead th {\n",
       "        text-align: left;\n",
       "    }\n",
       "\n",
       "    .dataframe tbody tr th {\n",
       "        vertical-align: top;\n",
       "    }\n",
       "</style>\n",
       "<table border=\"1\" class=\"dataframe\">\n",
       "  <thead>\n",
       "    <tr style=\"text-align: right;\">\n",
       "      <th></th>\n",
       "      <th>season</th>\n",
       "      <th>date</th>\n",
       "      <th>home_team_goal</th>\n",
       "      <th>away_team_goal</th>\n",
       "      <th>league</th>\n",
       "      <th>home_team</th>\n",
       "      <th>away_team</th>\n",
       "      <th>goal_diff</th>\n",
       "      <th>goal_sum</th>\n",
       "    </tr>\n",
       "  </thead>\n",
       "  <tbody>\n",
       "    <tr>\n",
       "      <th>0</th>\n",
       "      <td>2008/2009</td>\n",
       "      <td>2008-08-17</td>\n",
       "      <td>1</td>\n",
       "      <td>1</td>\n",
       "      <td>Belgium Jupiler League</td>\n",
       "      <td>KRC Genk</td>\n",
       "      <td>Beerschot AC</td>\n",
       "      <td>0</td>\n",
       "      <td>2</td>\n",
       "    </tr>\n",
       "    <tr>\n",
       "      <th>1</th>\n",
       "      <td>2009/2010</td>\n",
       "      <td>2009-08-30</td>\n",
       "      <td>1</td>\n",
       "      <td>1</td>\n",
       "      <td>Belgium Jupiler League</td>\n",
       "      <td>KRC Genk</td>\n",
       "      <td>Beerschot AC</td>\n",
       "      <td>0</td>\n",
       "      <td>2</td>\n",
       "    </tr>\n",
       "    <tr>\n",
       "      <th>2</th>\n",
       "      <td>2010/2011</td>\n",
       "      <td>2010-08-01</td>\n",
       "      <td>2</td>\n",
       "      <td>1</td>\n",
       "      <td>Belgium Jupiler League</td>\n",
       "      <td>KRC Genk</td>\n",
       "      <td>Beerschot AC</td>\n",
       "      <td>1</td>\n",
       "      <td>3</td>\n",
       "    </tr>\n",
       "    <tr>\n",
       "      <th>3</th>\n",
       "      <td>2011/2012</td>\n",
       "      <td>2011-07-30</td>\n",
       "      <td>3</td>\n",
       "      <td>1</td>\n",
       "      <td>Belgium Jupiler League</td>\n",
       "      <td>KRC Genk</td>\n",
       "      <td>Beerschot AC</td>\n",
       "      <td>2</td>\n",
       "      <td>4</td>\n",
       "    </tr>\n",
       "    <tr>\n",
       "      <th>4</th>\n",
       "      <td>2012/2013</td>\n",
       "      <td>2012-10-20</td>\n",
       "      <td>3</td>\n",
       "      <td>0</td>\n",
       "      <td>Belgium Jupiler League</td>\n",
       "      <td>KRC Genk</td>\n",
       "      <td>Beerschot AC</td>\n",
       "      <td>3</td>\n",
       "      <td>3</td>\n",
       "    </tr>\n",
       "  </tbody>\n",
       "</table>\n",
       "</div>"
      ],
      "text/plain": [
       "      season       date  home_team_goal  away_team_goal  \\\n",
       "0  2008/2009 2008-08-17               1               1   \n",
       "1  2009/2010 2009-08-30               1               1   \n",
       "2  2010/2011 2010-08-01               2               1   \n",
       "3  2011/2012 2011-07-30               3               1   \n",
       "4  2012/2013 2012-10-20               3               0   \n",
       "\n",
       "                   league home_team     away_team  goal_diff  goal_sum  \n",
       "0  Belgium Jupiler League  KRC Genk  Beerschot AC          0         2  \n",
       "1  Belgium Jupiler League  KRC Genk  Beerschot AC          0         2  \n",
       "2  Belgium Jupiler League  KRC Genk  Beerschot AC          1         3  \n",
       "3  Belgium Jupiler League  KRC Genk  Beerschot AC          2         4  \n",
       "4  Belgium Jupiler League  KRC Genk  Beerschot AC          3         3  "
      ]
     },
     "execution_count": 12,
     "metadata": {},
     "output_type": "execute_result"
    }
   ],
   "source": [
    "#Create variable goal_sum\n",
    "match_data['goal_sum']=match_data['home_team_goal']+match_data['away_team_goal']\n",
    "match_data.head()"
   ]
  },
  {
   "cell_type": "code",
   "execution_count": 13,
   "metadata": {},
   "outputs": [
    {
     "data": {
      "text/html": [
       "<div>\n",
       "<style>\n",
       "    .dataframe thead tr:only-child th {\n",
       "        text-align: right;\n",
       "    }\n",
       "\n",
       "    .dataframe thead th {\n",
       "        text-align: left;\n",
       "    }\n",
       "\n",
       "    .dataframe tbody tr th {\n",
       "        vertical-align: top;\n",
       "    }\n",
       "</style>\n",
       "<table border=\"1\" class=\"dataframe\">\n",
       "  <thead>\n",
       "    <tr style=\"text-align: right;\">\n",
       "      <th></th>\n",
       "      <th>season</th>\n",
       "      <th>date</th>\n",
       "      <th>home_team_goal</th>\n",
       "      <th>away_team_goal</th>\n",
       "      <th>league</th>\n",
       "      <th>home_team</th>\n",
       "      <th>away_team</th>\n",
       "      <th>goal_diff</th>\n",
       "      <th>goal_sum</th>\n",
       "      <th>under_over</th>\n",
       "    </tr>\n",
       "  </thead>\n",
       "  <tbody>\n",
       "    <tr>\n",
       "      <th>0</th>\n",
       "      <td>2008/2009</td>\n",
       "      <td>2008-08-17</td>\n",
       "      <td>1</td>\n",
       "      <td>1</td>\n",
       "      <td>Belgium Jupiler League</td>\n",
       "      <td>KRC Genk</td>\n",
       "      <td>Beerschot AC</td>\n",
       "      <td>0</td>\n",
       "      <td>2</td>\n",
       "      <td>under 2,5</td>\n",
       "    </tr>\n",
       "    <tr>\n",
       "      <th>1</th>\n",
       "      <td>2009/2010</td>\n",
       "      <td>2009-08-30</td>\n",
       "      <td>1</td>\n",
       "      <td>1</td>\n",
       "      <td>Belgium Jupiler League</td>\n",
       "      <td>KRC Genk</td>\n",
       "      <td>Beerschot AC</td>\n",
       "      <td>0</td>\n",
       "      <td>2</td>\n",
       "      <td>under 2,5</td>\n",
       "    </tr>\n",
       "    <tr>\n",
       "      <th>2</th>\n",
       "      <td>2010/2011</td>\n",
       "      <td>2010-08-01</td>\n",
       "      <td>2</td>\n",
       "      <td>1</td>\n",
       "      <td>Belgium Jupiler League</td>\n",
       "      <td>KRC Genk</td>\n",
       "      <td>Beerschot AC</td>\n",
       "      <td>1</td>\n",
       "      <td>3</td>\n",
       "      <td>over 2,5</td>\n",
       "    </tr>\n",
       "    <tr>\n",
       "      <th>3</th>\n",
       "      <td>2011/2012</td>\n",
       "      <td>2011-07-30</td>\n",
       "      <td>3</td>\n",
       "      <td>1</td>\n",
       "      <td>Belgium Jupiler League</td>\n",
       "      <td>KRC Genk</td>\n",
       "      <td>Beerschot AC</td>\n",
       "      <td>2</td>\n",
       "      <td>4</td>\n",
       "      <td>over 2,5</td>\n",
       "    </tr>\n",
       "    <tr>\n",
       "      <th>4</th>\n",
       "      <td>2012/2013</td>\n",
       "      <td>2012-10-20</td>\n",
       "      <td>3</td>\n",
       "      <td>0</td>\n",
       "      <td>Belgium Jupiler League</td>\n",
       "      <td>KRC Genk</td>\n",
       "      <td>Beerschot AC</td>\n",
       "      <td>3</td>\n",
       "      <td>3</td>\n",
       "      <td>over 2,5</td>\n",
       "    </tr>\n",
       "  </tbody>\n",
       "</table>\n",
       "</div>"
      ],
      "text/plain": [
       "      season       date  home_team_goal  away_team_goal  \\\n",
       "0  2008/2009 2008-08-17               1               1   \n",
       "1  2009/2010 2009-08-30               1               1   \n",
       "2  2010/2011 2010-08-01               2               1   \n",
       "3  2011/2012 2011-07-30               3               1   \n",
       "4  2012/2013 2012-10-20               3               0   \n",
       "\n",
       "                   league home_team     away_team  goal_diff  goal_sum  \\\n",
       "0  Belgium Jupiler League  KRC Genk  Beerschot AC          0         2   \n",
       "1  Belgium Jupiler League  KRC Genk  Beerschot AC          0         2   \n",
       "2  Belgium Jupiler League  KRC Genk  Beerschot AC          1         3   \n",
       "3  Belgium Jupiler League  KRC Genk  Beerschot AC          2         4   \n",
       "4  Belgium Jupiler League  KRC Genk  Beerschot AC          3         3   \n",
       "\n",
       "  under_over  \n",
       "0  under 2,5  \n",
       "1  under 2,5  \n",
       "2   over 2,5  \n",
       "3   over 2,5  \n",
       "4   over 2,5  "
      ]
     },
     "execution_count": 13,
     "metadata": {},
     "output_type": "execute_result"
    }
   ],
   "source": [
    "#Create variable under_over\n",
    "def under_over(goal_sum):\n",
    "    if goal_sum>=3:\n",
    "        value='over 2,5'\n",
    "    else:\n",
    "        value='under 2,5'\n",
    "    return value\n",
    "\n",
    "match_data['under_over']=match_data['goal_sum'].apply(under_over)\n",
    "match_data.head()"
   ]
  },
  {
   "cell_type": "code",
   "execution_count": 14,
   "metadata": {},
   "outputs": [
    {
     "data": {
      "text/html": [
       "<div>\n",
       "<style>\n",
       "    .dataframe thead tr:only-child th {\n",
       "        text-align: right;\n",
       "    }\n",
       "\n",
       "    .dataframe thead th {\n",
       "        text-align: left;\n",
       "    }\n",
       "\n",
       "    .dataframe tbody tr th {\n",
       "        vertical-align: top;\n",
       "    }\n",
       "</style>\n",
       "<table border=\"1\" class=\"dataframe\">\n",
       "  <thead>\n",
       "    <tr style=\"text-align: right;\">\n",
       "      <th></th>\n",
       "      <th>season</th>\n",
       "      <th>date</th>\n",
       "      <th>home_team_goal</th>\n",
       "      <th>away_team_goal</th>\n",
       "      <th>league</th>\n",
       "      <th>home_team</th>\n",
       "      <th>away_team</th>\n",
       "      <th>goal_diff</th>\n",
       "      <th>goal_sum</th>\n",
       "      <th>under_over</th>\n",
       "      <th>1X2</th>\n",
       "    </tr>\n",
       "  </thead>\n",
       "  <tbody>\n",
       "    <tr>\n",
       "      <th>0</th>\n",
       "      <td>2008/2009</td>\n",
       "      <td>2008-08-17</td>\n",
       "      <td>1</td>\n",
       "      <td>1</td>\n",
       "      <td>Belgium Jupiler League</td>\n",
       "      <td>KRC Genk</td>\n",
       "      <td>Beerschot AC</td>\n",
       "      <td>0</td>\n",
       "      <td>2</td>\n",
       "      <td>under 2,5</td>\n",
       "      <td>X</td>\n",
       "    </tr>\n",
       "    <tr>\n",
       "      <th>1</th>\n",
       "      <td>2009/2010</td>\n",
       "      <td>2009-08-30</td>\n",
       "      <td>1</td>\n",
       "      <td>1</td>\n",
       "      <td>Belgium Jupiler League</td>\n",
       "      <td>KRC Genk</td>\n",
       "      <td>Beerschot AC</td>\n",
       "      <td>0</td>\n",
       "      <td>2</td>\n",
       "      <td>under 2,5</td>\n",
       "      <td>X</td>\n",
       "    </tr>\n",
       "    <tr>\n",
       "      <th>2</th>\n",
       "      <td>2010/2011</td>\n",
       "      <td>2010-08-01</td>\n",
       "      <td>2</td>\n",
       "      <td>1</td>\n",
       "      <td>Belgium Jupiler League</td>\n",
       "      <td>KRC Genk</td>\n",
       "      <td>Beerschot AC</td>\n",
       "      <td>1</td>\n",
       "      <td>3</td>\n",
       "      <td>over 2,5</td>\n",
       "      <td>1</td>\n",
       "    </tr>\n",
       "    <tr>\n",
       "      <th>3</th>\n",
       "      <td>2011/2012</td>\n",
       "      <td>2011-07-30</td>\n",
       "      <td>3</td>\n",
       "      <td>1</td>\n",
       "      <td>Belgium Jupiler League</td>\n",
       "      <td>KRC Genk</td>\n",
       "      <td>Beerschot AC</td>\n",
       "      <td>2</td>\n",
       "      <td>4</td>\n",
       "      <td>over 2,5</td>\n",
       "      <td>1</td>\n",
       "    </tr>\n",
       "    <tr>\n",
       "      <th>4</th>\n",
       "      <td>2012/2013</td>\n",
       "      <td>2012-10-20</td>\n",
       "      <td>3</td>\n",
       "      <td>0</td>\n",
       "      <td>Belgium Jupiler League</td>\n",
       "      <td>KRC Genk</td>\n",
       "      <td>Beerschot AC</td>\n",
       "      <td>3</td>\n",
       "      <td>3</td>\n",
       "      <td>over 2,5</td>\n",
       "      <td>1</td>\n",
       "    </tr>\n",
       "  </tbody>\n",
       "</table>\n",
       "</div>"
      ],
      "text/plain": [
       "      season       date  home_team_goal  away_team_goal  \\\n",
       "0  2008/2009 2008-08-17               1               1   \n",
       "1  2009/2010 2009-08-30               1               1   \n",
       "2  2010/2011 2010-08-01               2               1   \n",
       "3  2011/2012 2011-07-30               3               1   \n",
       "4  2012/2013 2012-10-20               3               0   \n",
       "\n",
       "                   league home_team     away_team  goal_diff  goal_sum  \\\n",
       "0  Belgium Jupiler League  KRC Genk  Beerschot AC          0         2   \n",
       "1  Belgium Jupiler League  KRC Genk  Beerschot AC          0         2   \n",
       "2  Belgium Jupiler League  KRC Genk  Beerschot AC          1         3   \n",
       "3  Belgium Jupiler League  KRC Genk  Beerschot AC          2         4   \n",
       "4  Belgium Jupiler League  KRC Genk  Beerschot AC          3         3   \n",
       "\n",
       "  under_over 1X2  \n",
       "0  under 2,5   X  \n",
       "1  under 2,5   X  \n",
       "2   over 2,5   1  \n",
       "3   over 2,5   1  \n",
       "4   over 2,5   1  "
      ]
     },
     "execution_count": 14,
     "metadata": {},
     "output_type": "execute_result"
    }
   ],
   "source": [
    "#Create variable 1X2 \n",
    "def is_1X2(home_team_goal,away_team_goal):\n",
    "    if home_team_goal>away_team_goal:\n",
    "        value='1'\n",
    "    elif home_team_goal<away_team_goal:\n",
    "        value='2'\n",
    "    else:\n",
    "        value='X'\n",
    "    return value\n",
    "match_data['1X2']=match_data.apply(lambda x: is_1X2(x['home_team_goal'],x['away_team_goal']), axis=1)\n",
    "match_data.head()"
   ]
  },
  {
   "cell_type": "code",
   "execution_count": 15,
   "metadata": {},
   "outputs": [],
   "source": [
    "#CREATING VARIABLE home1X\n",
    "def home1X(home_team_goal,away_team_goal):\n",
    "    if home_team_goal>=away_team_goal:\n",
    "        value='yes'\n",
    "    else:\n",
    "        value='no'\n",
    "    return value\n",
    "match_data['home1X']=match_data.apply(lambda x: home1X(x['home_team_goal'],x['away_team_goal']), axis=1)"
   ]
  },
  {
   "cell_type": "markdown",
   "metadata": {},
   "source": [
    "In order to append the new columns using the fnctions created in the above cells the .apply function has been used. The . apply function applies a function along an axis of the DataFrame."
   ]
  },
  {
   "cell_type": "markdown",
   "metadata": {},
   "source": [
    "<a id='eda'></a>\n",
    "## **Exploratory Data Analysis**"
   ]
  },
  {
   "cell_type": "markdown",
   "metadata": {},
   "source": [
    "### ***1. How is the amount of goal scored distributed? How is it evolving?***"
   ]
  },
  {
   "cell_type": "code",
   "execution_count": 16,
   "metadata": {},
   "outputs": [
    {
     "data": {
      "text/plain": [
       "count    25979.000000\n",
       "mean         2.705531\n",
       "std          1.672456\n",
       "min          0.000000\n",
       "25%          2.000000\n",
       "50%          3.000000\n",
       "75%          4.000000\n",
       "max         12.000000\n",
       "Name: goal_sum, dtype: float64"
      ]
     },
     "execution_count": 16,
     "metadata": {},
     "output_type": "execute_result"
    }
   ],
   "source": [
    "match_data['goal_sum'].describe()"
   ]
  },
  {
   "cell_type": "markdown",
   "metadata": {},
   "source": [
    "The .describe method has been udes to get the summary statistics of the variable goal_sum."
   ]
  },
  {
   "cell_type": "markdown",
   "metadata": {},
   "source": [
    "In the cell below the object oriented method has been used to create subplots using matplotlib and seaborn. The aforementioned method is comprised of two steps: in the first one you need to create a figure and then, in the second one, you can call different methods on it. "
   ]
  },
  {
   "cell_type": "code",
   "execution_count": 29,
   "metadata": {},
   "outputs": [
    {
     "data": {
      "text/plain": [
       "Text(0.5, 1.0, 'How does the variable goal_sum evolve over time?')"
      ]
     },
     "execution_count": 29,
     "metadata": {},
     "output_type": "execute_result"
    },
    {
     "data": {
      "text/plain": [
       "<Figure size 864x432 with 0 Axes>"
      ]
     },
     "metadata": {},
     "output_type": "display_data"
    },
    {
     "data": {
      "image/png": "[encoded data removed]",
      "text/plain": [
       "<Figure size 864x432 with 2 Axes>"
      ]
     },
     "metadata": {},
     "output_type": "display_data"
    }
   ],
   "source": [
    "#Plot the distribution of goal_sum and its evolution over the considered timeframe.\n",
    "plt.figure(figsize=(12,6))\n",
    "figure, axes = plt.subplots(2, 1)\n",
    "plt.subplots_adjust(left=0.125, bottom=0.1, right=0.9, top=0.9, wspace=0.5, hspace=0.5)\n",
    "sns.distplot(match_data['goal_sum'], kde=False, ax=axes[0]).set_title('Distribution of goal scored')\n",
    "sns.lineplot(x='season',y='goal_sum',data=match_data, err_style=None, ax=axes[1]).set_title('How does the variable goal_sum evolve over time?')"
   ]
  },
  {
   "cell_type": "markdown",
   "metadata": {},
   "source": [
    "The distribution of goal_sum is positively skewed and the mean is 2.7. It means the on average, during the seasons 2008-2016, for each match 2.7 have been scored.\n",
    "\n",
    "The variable goal_sum is following an upward trend, which means that the amount of goals scored during the timeframe under analysis has grown."
   ]
  },
  {
   "cell_type": "markdown",
   "metadata": {},
   "source": [
    "### **2. In which leagues are matches most likely to end up with three or more goal?**\n",
    "\n",
    "The variable under analysis is now under_over. The chart below (created using seaborn) shows how the varible is distributed across the major european leagues."
   ]
  },
  {
   "cell_type": "code",
   "execution_count": 18,
   "metadata": {},
   "outputs": [
    {
     "data": {
      "text/plain": [
       "<matplotlib.axes._subplots.AxesSubplot at 0x199e23834a8>"
      ]
     },
     "execution_count": 18,
     "metadata": {},
     "output_type": "execute_result"
    },
    {
     "data": {
      "image/png": "[encoded data removed]",
      "text/plain": [
       "<Figure size 432x288 with 1 Axes>"
      ]
     },
     "metadata": {
      "needs_background": "light"
     },
     "output_type": "display_data"
    }
   ],
   "source": [
    "#Plot under_over by league\n",
    "sns.countplot(y='league',hue='under_over', data=match_data)"
   ]
  },
  {
   "cell_type": "code",
   "execution_count": 19,
   "metadata": {},
   "outputs": [
    {
     "data": {
      "text/plain": [
       "league                    under_over\n",
       "Netherlands Eredivisie    over 2,5      0.582108\n",
       "France Ligue 1            under 2,5     0.564803\n",
       "Poland Ekstraklasa        under 2,5     0.561458\n",
       "Switzerland Super League  over 2,5      0.561181\n",
       "Germany 1. Bundesliga     over 2,5      0.558415\n",
       "Portugal Liga ZON Sagres  under 2,5     0.535088\n",
       "Belgium Jupiler League    over 2,5      0.527778\n",
       "Italy Serie A             under 2,5     0.522373\n",
       "Spain LIGA BBVA           over 2,5      0.521711\n",
       "England Premier League    over 2,5      0.521382\n",
       "Scotland Premier League   under 2,5     0.500548\n",
       "                          over 2,5      0.499452\n",
       "England Premier League    under 2,5     0.478618\n",
       "Spain LIGA BBVA           under 2,5     0.478289\n",
       "Italy Serie A             over 2,5      0.477627\n",
       "Belgium Jupiler League    under 2,5     0.472222\n",
       "Portugal Liga ZON Sagres  over 2,5      0.464912\n",
       "Germany 1. Bundesliga     under 2,5     0.441585\n",
       "Switzerland Super League  under 2,5     0.438819\n",
       "Poland Ekstraklasa        over 2,5      0.438542\n",
       "France Ligue 1            over 2,5      0.435197\n",
       "Netherlands Eredivisie    under 2,5     0.417892\n",
       "Name: under_over, dtype: float64"
      ]
     },
     "execution_count": 19,
     "metadata": {},
     "output_type": "execute_result"
    }
   ],
   "source": [
    "#Create table with percentage of matches under_over for each league.\n",
    "match_data.groupby(by='league')['under_over'].value_counts(normalize=True).sort_values(ascending=False)"
   ]
  },
  {
   "cell_type": "markdown",
   "metadata": {},
   "source": [
    "As you can see in the table and the chart above, the league that had shown the greatest incidence of matches ended up with 3 or more goals are:\n",
    "    \n",
    "1. Netherlands Eredivisie (58%)\n",
    "\n",
    "2. Switzerland Super League (56%)\n",
    "\n",
    "3. Germany 1. Bundesliga (56%)\n",
    "\n",
    "4. Belgium Jupiler League (53%)\n",
    "\n",
    "5. Spain LIGA BBVA (52%)"
   ]
  },
  {
   "cell_type": "markdown",
   "metadata": {},
   "source": [
    "### **3. What teams have scored the most?**\n",
    "\n",
    "In order to find out which teams have scored the most we need to create a new dataframe, which will not take into account the fact that a team play at home or away. To do so we have to select all the matches played at home, then the matches played away and finally concatenate them into a single dataframe."
   ]
  },
  {
   "cell_type": "code",
   "execution_count": 20,
   "metadata": {},
   "outputs": [
    {
     "data": {
      "text/html": [
       "<div>\n",
       "<style>\n",
       "    .dataframe thead tr:only-child th {\n",
       "        text-align: right;\n",
       "    }\n",
       "\n",
       "    .dataframe thead th {\n",
       "        text-align: left;\n",
       "    }\n",
       "\n",
       "    .dataframe tbody tr th {\n",
       "        vertical-align: top;\n",
       "    }\n",
       "</style>\n",
       "<table border=\"1\" class=\"dataframe\">\n",
       "  <thead>\n",
       "    <tr style=\"text-align: right;\">\n",
       "      <th></th>\n",
       "      <th>goal</th>\n",
       "    </tr>\n",
       "    <tr>\n",
       "      <th>team</th>\n",
       "      <th></th>\n",
       "    </tr>\n",
       "  </thead>\n",
       "  <tbody>\n",
       "    <tr>\n",
       "      <th>FC Barcelona</th>\n",
       "      <td>2.792763</td>\n",
       "    </tr>\n",
       "    <tr>\n",
       "      <th>Real Madrid CF</th>\n",
       "      <td>2.773026</td>\n",
       "    </tr>\n",
       "    <tr>\n",
       "      <th>FC Bayern Munich</th>\n",
       "      <td>2.400735</td>\n",
       "    </tr>\n",
       "    <tr>\n",
       "      <th>PSV</th>\n",
       "      <td>2.397059</td>\n",
       "    </tr>\n",
       "    <tr>\n",
       "      <th>Ajax</th>\n",
       "      <td>2.378676</td>\n",
       "    </tr>\n",
       "  </tbody>\n",
       "</table>\n",
       "</div>"
      ],
      "text/plain": [
       "                      goal\n",
       "team                      \n",
       "FC Barcelona      2.792763\n",
       "Real Madrid CF    2.773026\n",
       "FC Bayern Munich  2.400735\n",
       "PSV               2.397059\n",
       "Ajax              2.378676"
      ]
     },
     "execution_count": 20,
     "metadata": {},
     "output_type": "execute_result"
    },
    {
     "data": {
      "image/png": "[encoded data removed]",
      "text/plain": [
       "<Figure size 432x288 with 1 Axes>"
      ]
     },
     "metadata": {
      "needs_background": "light"
     },
     "output_type": "display_data"
    }
   ],
   "source": [
    "#WHICH TEAM HAVE SCORED THE MOST GOALS?\n",
    "#CREATING matche_home AND match_away and merge them into match_goal\n",
    "match_home=match_data.loc[:,('date','home_team','home_team_goal')]\n",
    "match_home.rename(index=str,columns={'home_team':'team','home_team_goal':'goal'},inplace=True)\n",
    "\n",
    "match_away=match_data.loc[:,('date','away_team','away_team_goal')]\n",
    "match_away.rename(index=str,columns={'away_team':'team','away_team_goal':'goal'},inplace=True)\n",
    "\n",
    "match_goal=pd.concat([match_home, match_away], ignore_index=True)\n",
    "\n",
    "goal_scored_by_team=match_goal.groupby(by='team')\n",
    "goal_scored_by_team.mean().sort_values('goal',ascending=False).head(20).plot(kind='bar', title='Goal scored by Team')\n",
    "goal_scored_by_team.mean().sort_values('goal',ascending=False).head(5)"
   ]
  },
  {
   "cell_type": "markdown",
   "metadata": {},
   "source": [
    "### **4. Has european football become more or less equilibrated?**\n",
    "\n",
    "The variable under analysis is now goal_diff which the difference of the goals scored by the two teams. It is assumed to be a measure of competitiveness of a league becouse if the such difference is low, the match is assumed to be more equilibrated. Hence, if a league shows a low goal difference for each match, it is assumed to be more equilibrated and unpredictable."
   ]
  },
  {
   "cell_type": "code",
   "execution_count": 21,
   "metadata": {},
   "outputs": [
    {
     "data": {
      "text/plain": [
       "Text(0.5, 1.0, 'How does the variable goal_diff evolve over time?')"
      ]
     },
     "execution_count": 21,
     "metadata": {},
     "output_type": "execute_result"
    },
    {
     "data": {
      "image/png": "[encoded data removed]",
      "text/plain": [
       "<Figure size 432x288 with 1 Axes>"
      ]
     },
     "metadata": {
      "needs_background": "light"
     },
     "output_type": "display_data"
    }
   ],
   "source": [
    "#Plot the distribution of goal_diff and its evolution over the considered timeframe.\n",
    "sns.lineplot(x='season',y='goal_diff',data=match_data, err_style=None).set_title('How does the variable goal_diff evolve over time?')"
   ]
  },
  {
   "cell_type": "markdown",
   "metadata": {},
   "source": [
    "During the considered timeframe, the variable goal_diff has grown. It is hard to say if european football has become less equilibrated with the data avaliable here since this upward trend in goal_diff may be caused by a number of factors we are not taking into account in this analysis. It possible to state only that during the period under analysis the difference between the goal scored by the two teams has grown.\n",
    "\n",
    "But if we assume that goal_diff may be a measure of equilibrium, european football ha become less equilibrated."
   ]
  },
  {
   "cell_type": "markdown",
   "metadata": {},
   "source": [
    "### **5. Which are the most equilibrated leagues?**\n",
    "\n",
    "In this case we are considering the mean of goal_diff to show which league had shown on average a low value of goal_diff, hence they are assumed to be more equilibrated."
   ]
  },
  {
   "cell_type": "code",
   "execution_count": 22,
   "metadata": {},
   "outputs": [
    {
     "data": {
      "text/html": [
       "<div>\n",
       "<style>\n",
       "    .dataframe thead tr:only-child th {\n",
       "        text-align: right;\n",
       "    }\n",
       "\n",
       "    .dataframe thead th {\n",
       "        text-align: left;\n",
       "    }\n",
       "\n",
       "    .dataframe tbody tr th {\n",
       "        vertical-align: top;\n",
       "    }\n",
       "</style>\n",
       "<table border=\"1\" class=\"dataframe\">\n",
       "  <thead>\n",
       "    <tr style=\"text-align: right;\">\n",
       "      <th></th>\n",
       "      <th>goal_diff</th>\n",
       "    </tr>\n",
       "    <tr>\n",
       "      <th>league</th>\n",
       "      <th></th>\n",
       "    </tr>\n",
       "  </thead>\n",
       "  <tbody>\n",
       "    <tr>\n",
       "      <th>France Ligue 1</th>\n",
       "      <td>1.223355</td>\n",
       "    </tr>\n",
       "    <tr>\n",
       "      <th>Poland Ekstraklasa</th>\n",
       "      <td>1.239583</td>\n",
       "    </tr>\n",
       "    <tr>\n",
       "      <th>Italy Serie A</th>\n",
       "      <td>1.261850</td>\n",
       "    </tr>\n",
       "    <tr>\n",
       "      <th>Portugal Liga ZON Sagres</th>\n",
       "      <td>1.304581</td>\n",
       "    </tr>\n",
       "    <tr>\n",
       "      <th>England Premier League</th>\n",
       "      <td>1.355263</td>\n",
       "    </tr>\n",
       "  </tbody>\n",
       "</table>\n",
       "</div>"
      ],
      "text/plain": [
       "                          goal_diff\n",
       "league                             \n",
       "France Ligue 1             1.223355\n",
       "Poland Ekstraklasa         1.239583\n",
       "Italy Serie A              1.261850\n",
       "Portugal Liga ZON Sagres   1.304581\n",
       "England Premier League     1.355263"
      ]
     },
     "execution_count": 22,
     "metadata": {},
     "output_type": "execute_result"
    },
    {
     "data": {
      "image/png": "[encoded data removed]",
      "text/plain": [
       "<Figure size 432x288 with 1 Axes>"
      ]
     },
     "metadata": {
      "needs_background": "light"
     },
     "output_type": "display_data"
    }
   ],
   "source": [
    "#Most equilibrated leagues.\n",
    "goal_diff_by_league=match_data.groupby('league')[['league','goal_diff']]\n",
    "goal_diff_by_league.mean().sort_values('goal_diff',ascending=True).plot(kind='bar', title='Most equilibrated leagues')\n",
    "goal_diff_by_league.mean().sort_values('goal_diff',ascending=True).head()"
   ]
  },
  {
   "cell_type": "markdown",
   "metadata": {},
   "source": [
    "In the chart shown above, you can see which are the most equilibrated leagues according to our assumption that the difference of the goals scored by the two teams is a good measure of equilibrium."
   ]
  },
  {
   "cell_type": "markdown",
   "metadata": {},
   "source": [
    "### **6. Is there any evidence of home advantage?**\n",
    "\n",
    "The home advantage is defined as the benefit that the home team is said to gain over the visiting team (https://en.wikipedia.org/wiki/Home_advantage) and it may be due to many different factors that we are not takining into consideration in this analysis. The main goal here is to find ou whether or not there had been evidence of home advantage during the perion under analysis. "
   ]
  },
  {
   "cell_type": "markdown",
   "metadata": {},
   "source": [
    "**6.1 Static perspective on home advantage**"
   ]
  },
  {
   "cell_type": "code",
   "execution_count": 23,
   "metadata": {},
   "outputs": [
    {
     "data": {
      "text/plain": [
       "yes    0.712614\n",
       "no     0.287386\n",
       "Name: home1X, dtype: float64"
      ]
     },
     "execution_count": 23,
     "metadata": {},
     "output_type": "execute_result"
    }
   ],
   "source": [
    "#Create Series functional for plotting\n",
    "serres1X2=match_data['1X2'].value_counts(normalize=True)\n",
    "serhome1x=match_data['home1X'].value_counts(normalize=True)\n",
    "\n",
    "serhome1x"
   ]
  },
  {
   "cell_type": "markdown",
   "metadata": {},
   "source": [
    "The 71% of matches had ended up with the home team winning or with a draw."
   ]
  },
  {
   "cell_type": "code",
   "execution_count": 24,
   "metadata": {},
   "outputs": [
    {
     "data": {
      "text/plain": [
       "<matplotlib.axes._subplots.AxesSubplot at 0x199e1f94278>"
      ]
     },
     "execution_count": 24,
     "metadata": {},
     "output_type": "execute_result"
    },
    {
     "data": {
      "image/png": "[encoded data removed]",
      "text/plain": [
       "<Figure size 432x288 with 2 Axes>"
      ]
     },
     "metadata": {
      "needs_background": "light"
     },
     "output_type": "display_data"
    }
   ],
   "source": [
    "#Plotting Series\n",
    "f, axes = plt.subplots(1, 2)\n",
    "plt.subplots_adjust(left=0.125, bottom=0.1, right=0.9, top=0.9, wspace=0.5, hspace=0.5)\n",
    "sns.countplot(x='1X2', data=match_data, ax=axes[0])\n",
    "sns.countplot(x='home1X', data=match_data, ax=axes[1])"
   ]
  },
  {
   "cell_type": "markdown",
   "metadata": {},
   "source": [
    "During the seasons 2008-2016 most matches ended up win the home team winning or with a draw. The data showed a substatial home advantage."
   ]
  },
  {
   "cell_type": "markdown",
   "metadata": {},
   "source": [
    "**6.2 Distribution of goal scored at home**"
   ]
  },
  {
   "cell_type": "code",
   "execution_count": 25,
   "metadata": {},
   "outputs": [
    {
     "data": {
      "text/html": [
       "<div>\n",
       "<style>\n",
       "    .dataframe thead tr:only-child th {\n",
       "        text-align: right;\n",
       "    }\n",
       "\n",
       "    .dataframe thead th {\n",
       "        text-align: left;\n",
       "    }\n",
       "\n",
       "    .dataframe tbody tr th {\n",
       "        vertical-align: top;\n",
       "    }\n",
       "</style>\n",
       "<table border=\"1\" class=\"dataframe\">\n",
       "  <thead>\n",
       "    <tr style=\"text-align: right;\">\n",
       "      <th></th>\n",
       "      <th>home_team_goal</th>\n",
       "      <th>away_team_goal</th>\n",
       "    </tr>\n",
       "  </thead>\n",
       "  <tbody>\n",
       "    <tr>\n",
       "      <th>count</th>\n",
       "      <td>25979.000000</td>\n",
       "      <td>25979.000000</td>\n",
       "    </tr>\n",
       "    <tr>\n",
       "      <th>mean</th>\n",
       "      <td>1.544594</td>\n",
       "      <td>1.160938</td>\n",
       "    </tr>\n",
       "    <tr>\n",
       "      <th>std</th>\n",
       "      <td>1.297158</td>\n",
       "      <td>1.142110</td>\n",
       "    </tr>\n",
       "    <tr>\n",
       "      <th>min</th>\n",
       "      <td>0.000000</td>\n",
       "      <td>0.000000</td>\n",
       "    </tr>\n",
       "    <tr>\n",
       "      <th>25%</th>\n",
       "      <td>1.000000</td>\n",
       "      <td>0.000000</td>\n",
       "    </tr>\n",
       "    <tr>\n",
       "      <th>50%</th>\n",
       "      <td>1.000000</td>\n",
       "      <td>1.000000</td>\n",
       "    </tr>\n",
       "    <tr>\n",
       "      <th>75%</th>\n",
       "      <td>2.000000</td>\n",
       "      <td>2.000000</td>\n",
       "    </tr>\n",
       "    <tr>\n",
       "      <th>max</th>\n",
       "      <td>10.000000</td>\n",
       "      <td>9.000000</td>\n",
       "    </tr>\n",
       "  </tbody>\n",
       "</table>\n",
       "</div>"
      ],
      "text/plain": [
       "       home_team_goal  away_team_goal\n",
       "count    25979.000000    25979.000000\n",
       "mean         1.544594        1.160938\n",
       "std          1.297158        1.142110\n",
       "min          0.000000        0.000000\n",
       "25%          1.000000        0.000000\n",
       "50%          1.000000        1.000000\n",
       "75%          2.000000        2.000000\n",
       "max         10.000000        9.000000"
      ]
     },
     "execution_count": 25,
     "metadata": {},
     "output_type": "execute_result"
    }
   ],
   "source": [
    "#Print summary statistics of home_team_goal.\n",
    "match_data[['home_team_goal','away_team_goal']].describe()"
   ]
  },
  {
   "cell_type": "code",
   "execution_count": 26,
   "metadata": {},
   "outputs": [
    {
     "data": {
      "text/plain": [
       "Text(0.5, 1.0, 'Distribution of away_team_goal')"
      ]
     },
     "execution_count": 26,
     "metadata": {},
     "output_type": "execute_result"
    },
    {
     "data": {
      "image/png": "[encoded data removed]",
      "text/plain": [
       "<Figure size 432x288 with 2 Axes>"
      ]
     },
     "metadata": {
      "needs_background": "light"
     },
     "output_type": "display_data"
    }
   ],
   "source": [
    "#Plot the distribution of home_team_goal and its evolution over time.\n",
    "f, axes = plt.subplots(2, 1)\n",
    "plt.subplots_adjust(left=0.125, bottom=0.1, right=0.9, top=0.9, wspace=0.5, hspace=0.5)\n",
    "sns.distplot(match_data['home_team_goal'], kde=False, ax=axes[0]).set_title('Distribution of home_team_goal')\n",
    "sns.distplot(match_data['away_team_goal'], kde=False, ax=axes[1]).set_title('Distribution of away_team_goal')"
   ]
  },
  {
   "cell_type": "markdown",
   "metadata": {},
   "source": [
    "Acoording to the charts and the table shown above, we can state that: \n",
    "- The medians are equal: in 50% of instances, either one team score one goal.\n",
    "- The means are different: on average the home team scores more than the away team. It may be due to outliers, which are grater for home_team_goal."
   ]
  },
  {
   "cell_type": "markdown",
   "metadata": {},
   "source": [
    "**6.3 Evolution of home advantage over time**"
   ]
  },
  {
   "cell_type": "code",
   "execution_count": 27,
   "metadata": {},
   "outputs": [
    {
     "data": {
      "text/plain": [
       "<matplotlib.axes._subplots.AxesSubplot at 0x199e2714748>"
      ]
     },
     "execution_count": 27,
     "metadata": {},
     "output_type": "execute_result"
    },
    {
     "data": {
      "image/png": "[encoded data removed]",
      "text/plain": [
       "<Figure size 432x288 with 2 Axes>"
      ]
     },
     "metadata": {
      "needs_background": "light"
     },
     "output_type": "display_data"
    }
   ],
   "source": [
    "f, axes = plt.subplots(2, 1)\n",
    "plt.subplots_adjust(left=0.125, bottom=0.1, right=0.9, top=0.9, wspace=0.5, hspace=0.5)\n",
    "sns.lineplot(x='season', y='goal_diff', hue='1X2', data=match_data, err_style=None, ax=axes[0]).set_title('Breakdown of goal_diff by final result')\n",
    "match_data.groupby(by='season')[['home_team_goal','away_team_goal']].mean().plot(ax=axes[1], title='Difference between goals scored at home and goals scored away')"
   ]
  },
  {
   "cell_type": "markdown",
   "metadata": {},
   "source": [
    "- The first chart shows that the goal difference of the matches where the home team won is higher then the one where the away team won. This means the the team that win at home scored more the they won away.\n",
    "\n",
    "- The second chart shows the most goals are scored at home.\n",
    "\n",
    "The data showed again a substantial home advantage.\n",
    "\n",
    "Considering **6.1** and **6.2** it is possible to state that over the seasons 2008-2016 there had been a substantial home advantage."
   ]
  },
  {
   "cell_type": "markdown",
   "metadata": {},
   "source": [
    "## **Conclusions**\n",
    "\n",
    "After analysing the dataset it is now time to draw some conclusions. It is possible to state that during the seasons 2008-2016:\n",
    "\n",
    "\n",
    "\n",
    "- The amount of goals scored on each match had grown.\n",
    "\n",
    "\n",
    "- The leagues that had shown the greatest incidence of matches ended up with 3 or more goals are:\n",
    "\n",
    "    - Netherlands Eredivisie (58%)\n",
    "\n",
    "    - Switzerland Super League (56%)\n",
    "\n",
    "    - Germany 1. Bundesliga (56%)\n",
    "\n",
    "    - Belgium Jupiler League (53%)\n",
    "\n",
    "    - Spain LIGA BBVA (52%)\n",
    "    \n",
    "    \n",
    "- The teams that on average have scored the most on each match are:\n",
    "    \n",
    "    - FC Barcelona (2.8)\n",
    "    \n",
    "    - Real Madrid CF\t(2.8)\n",
    "    \n",
    "    - FC Bayern Munich (2.4)\n",
    "    \n",
    "    - PSV\t(2.4)\n",
    "    \n",
    "    - Ajax (2.4)\n",
    "    \n",
    "    \n",
    "-  The variable goal_diff has grown. It is hard to say if european football has become less equilibrated with the data avaliable here since this upward trend in goal_diff may be caused by a number of factors we are not taking into account in this analysis. But if we assume that goal_diff may be a measure of equilibrium, european football ha become less equilibrated.\n",
    "\n",
    "\n",
    "\n",
    "\n",
    "- The most equilibrated european leagues are:\n",
    "\n",
    "    - France Ligue 1\t\n",
    "    \n",
    "    - Poland Ekstraklasa\t\n",
    "    \n",
    "    - Italy Serie A\t\n",
    "    \n",
    "    - Portugal Liga ZON Sagres\t\n",
    "    \n",
    "    - England Premier League\n",
    " \n",
    " \n",
    " \n",
    "- The data showed again a substantial home advantage: \n",
    "\n",
    "    - The goal difference of the matches where the home team won is higher then the one where the away team won. This means the the team that win at home scored more than the onee that won away.\n",
    "    \n",
    "    - The most goals are scored at home.\n",
    "    \n",
    "    - 71% of matches had ended up with the home team winning or with a draw.\n",
    "    \n",
    "    - On average home team score more at home than away.\n"
   ]
  },
  {
   "cell_type": "markdown",
   "metadata": {},
   "source": [
    "**Limitations**\n",
    "\n",
    "Regarding questions **4 - 5**, they are not providing an exhaustive explaination on the equilibrium of european football. The only variable that has been analyzed is the goal difference, which can had been influenced by many different factors not considered in this analysis (e.g. new rules, weather, etc.). For instance the variable goal_diff may not even reflect the equilibrium, but its growth may be explained saying that since during the period under analysis the average amount of goal scored on each match grew, the upward trend in goal_difference may be a simple consequence of that.\n",
    "\n",
    "\n",
    "Regarding question **6**, the fact that the data showed a substantial home advantage doeasn't mean that playing at the home field it is an actual advantage, but it can be caused by a number of external factors that we are not taking into account."
   ]
  },
  {
   "cell_type": "code",
   "execution_count": null,
   "metadata": {},
   "outputs": [],
   "source": []
  },
  {
   "cell_type": "code",
   "execution_count": null,
   "metadata": {},
   "outputs": [],
   "source": []
  }
 ],
 "metadata": {
  "kernelspec": {
   "display_name": "Python 3",
   "language": "python",
   "name": "python3"
  },
  "language_info": {
   "codemirror_mode": {
    "name": "ipython",
    "version": 3
   },
   "file_extension": ".py",
   "mimetype": "text/x-python",
   "name": "python",
   "nbconvert_exporter": "python",
   "pygments_lexer": "ipython3",
   "version": "3.6.6"
  }
 },
 "nbformat": 4,
 "nbformat_minor": 2
}
